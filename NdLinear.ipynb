{
  "nbformat": 4,
  "nbformat_minor": 0,
  "metadata": {
    "colab": {
      "provenance": [],
      "gpuType": "T4"
    },
    "kernelspec": {
      "name": "python3",
      "display_name": "Python 3"
    },
    "language_info": {
      "name": "python"
    },
    "accelerator": "GPU",
    "widgets": {
      "application/vnd.jupyter.widget-state+json": {
        "fefcdcbd8c8143239890ac7a2430105b": {
          "model_module": "@jupyter-widgets/controls",
          "model_name": "HBoxModel",
          "model_module_version": "1.5.0",
          "state": {
            "_dom_classes": [],
            "_model_module": "@jupyter-widgets/controls",
            "_model_module_version": "1.5.0",
            "_model_name": "HBoxModel",
            "_view_count": null,
            "_view_module": "@jupyter-widgets/controls",
            "_view_module_version": "1.5.0",
            "_view_name": "HBoxView",
            "box_style": "",
            "children": [
              "IPY_MODEL_3531775d392448d08b4fa3be5f42cf61",
              "IPY_MODEL_59fe13c65e074c19b5ed36d54d63da1c",
              "IPY_MODEL_fd9d6238ed8d41838e12dd0f8a25f236"
            ],
            "layout": "IPY_MODEL_0df8010775d040e0a59d90dd045f68ad"
          }
        },
        "3531775d392448d08b4fa3be5f42cf61": {
          "model_module": "@jupyter-widgets/controls",
          "model_name": "HTMLModel",
          "model_module_version": "1.5.0",
          "state": {
            "_dom_classes": [],
            "_model_module": "@jupyter-widgets/controls",
            "_model_module_version": "1.5.0",
            "_model_name": "HTMLModel",
            "_view_count": null,
            "_view_module": "@jupyter-widgets/controls",
            "_view_module_version": "1.5.0",
            "_view_name": "HTMLView",
            "description": "",
            "description_tooltip": null,
            "layout": "IPY_MODEL_1489f57234424e6d8404740b2fde5880",
            "placeholder": "​",
            "style": "IPY_MODEL_9923883b033d45f28ad97b292e08e838",
            "value": "tokenizer_config.json: 100%"
          }
        },
        "59fe13c65e074c19b5ed36d54d63da1c": {
          "model_module": "@jupyter-widgets/controls",
          "model_name": "FloatProgressModel",
          "model_module_version": "1.5.0",
          "state": {
            "_dom_classes": [],
            "_model_module": "@jupyter-widgets/controls",
            "_model_module_version": "1.5.0",
            "_model_name": "FloatProgressModel",
            "_view_count": null,
            "_view_module": "@jupyter-widgets/controls",
            "_view_module_version": "1.5.0",
            "_view_name": "ProgressView",
            "bar_style": "success",
            "description": "",
            "description_tooltip": null,
            "layout": "IPY_MODEL_87ebb35b0b09454580cbb0c4bf6764bf",
            "max": 48,
            "min": 0,
            "orientation": "horizontal",
            "style": "IPY_MODEL_0faa92a37bab4b699a0513ac3601fa44",
            "value": 48
          }
        },
        "fd9d6238ed8d41838e12dd0f8a25f236": {
          "model_module": "@jupyter-widgets/controls",
          "model_name": "HTMLModel",
          "model_module_version": "1.5.0",
          "state": {
            "_dom_classes": [],
            "_model_module": "@jupyter-widgets/controls",
            "_model_module_version": "1.5.0",
            "_model_name": "HTMLModel",
            "_view_count": null,
            "_view_module": "@jupyter-widgets/controls",
            "_view_module_version": "1.5.0",
            "_view_name": "HTMLView",
            "description": "",
            "description_tooltip": null,
            "layout": "IPY_MODEL_86e134634e7a4507afedb0b3e2617986",
            "placeholder": "​",
            "style": "IPY_MODEL_bf926699569b4c8f8afd80a184d16f0c",
            "value": " 48.0/48.0 [00:00&lt;00:00, 3.39kB/s]"
          }
        },
        "0df8010775d040e0a59d90dd045f68ad": {
          "model_module": "@jupyter-widgets/base",
          "model_name": "LayoutModel",
          "model_module_version": "1.2.0",
          "state": {
            "_model_module": "@jupyter-widgets/base",
            "_model_module_version": "1.2.0",
            "_model_name": "LayoutModel",
            "_view_count": null,
            "_view_module": "@jupyter-widgets/base",
            "_view_module_version": "1.2.0",
            "_view_name": "LayoutView",
            "align_content": null,
            "align_items": null,
            "align_self": null,
            "border": null,
            "bottom": null,
            "display": null,
            "flex": null,
            "flex_flow": null,
            "grid_area": null,
            "grid_auto_columns": null,
            "grid_auto_flow": null,
            "grid_auto_rows": null,
            "grid_column": null,
            "grid_gap": null,
            "grid_row": null,
            "grid_template_areas": null,
            "grid_template_columns": null,
            "grid_template_rows": null,
            "height": null,
            "justify_content": null,
            "justify_items": null,
            "left": null,
            "margin": null,
            "max_height": null,
            "max_width": null,
            "min_height": null,
            "min_width": null,
            "object_fit": null,
            "object_position": null,
            "order": null,
            "overflow": null,
            "overflow_x": null,
            "overflow_y": null,
            "padding": null,
            "right": null,
            "top": null,
            "visibility": null,
            "width": null
          }
        },
        "1489f57234424e6d8404740b2fde5880": {
          "model_module": "@jupyter-widgets/base",
          "model_name": "LayoutModel",
          "model_module_version": "1.2.0",
          "state": {
            "_model_module": "@jupyter-widgets/base",
            "_model_module_version": "1.2.0",
            "_model_name": "LayoutModel",
            "_view_count": null,
            "_view_module": "@jupyter-widgets/base",
            "_view_module_version": "1.2.0",
            "_view_name": "LayoutView",
            "align_content": null,
            "align_items": null,
            "align_self": null,
            "border": null,
            "bottom": null,
            "display": null,
            "flex": null,
            "flex_flow": null,
            "grid_area": null,
            "grid_auto_columns": null,
            "grid_auto_flow": null,
            "grid_auto_rows": null,
            "grid_column": null,
            "grid_gap": null,
            "grid_row": null,
            "grid_template_areas": null,
            "grid_template_columns": null,
            "grid_template_rows": null,
            "height": null,
            "justify_content": null,
            "justify_items": null,
            "left": null,
            "margin": null,
            "max_height": null,
            "max_width": null,
            "min_height": null,
            "min_width": null,
            "object_fit": null,
            "object_position": null,
            "order": null,
            "overflow": null,
            "overflow_x": null,
            "overflow_y": null,
            "padding": null,
            "right": null,
            "top": null,
            "visibility": null,
            "width": null
          }
        },
        "9923883b033d45f28ad97b292e08e838": {
          "model_module": "@jupyter-widgets/controls",
          "model_name": "DescriptionStyleModel",
          "model_module_version": "1.5.0",
          "state": {
            "_model_module": "@jupyter-widgets/controls",
            "_model_module_version": "1.5.0",
            "_model_name": "DescriptionStyleModel",
            "_view_count": null,
            "_view_module": "@jupyter-widgets/base",
            "_view_module_version": "1.2.0",
            "_view_name": "StyleView",
            "description_width": ""
          }
        },
        "87ebb35b0b09454580cbb0c4bf6764bf": {
          "model_module": "@jupyter-widgets/base",
          "model_name": "LayoutModel",
          "model_module_version": "1.2.0",
          "state": {
            "_model_module": "@jupyter-widgets/base",
            "_model_module_version": "1.2.0",
            "_model_name": "LayoutModel",
            "_view_count": null,
            "_view_module": "@jupyter-widgets/base",
            "_view_module_version": "1.2.0",
            "_view_name": "LayoutView",
            "align_content": null,
            "align_items": null,
            "align_self": null,
            "border": null,
            "bottom": null,
            "display": null,
            "flex": null,
            "flex_flow": null,
            "grid_area": null,
            "grid_auto_columns": null,
            "grid_auto_flow": null,
            "grid_auto_rows": null,
            "grid_column": null,
            "grid_gap": null,
            "grid_row": null,
            "grid_template_areas": null,
            "grid_template_columns": null,
            "grid_template_rows": null,
            "height": null,
            "justify_content": null,
            "justify_items": null,
            "left": null,
            "margin": null,
            "max_height": null,
            "max_width": null,
            "min_height": null,
            "min_width": null,
            "object_fit": null,
            "object_position": null,
            "order": null,
            "overflow": null,
            "overflow_x": null,
            "overflow_y": null,
            "padding": null,
            "right": null,
            "top": null,
            "visibility": null,
            "width": null
          }
        },
        "0faa92a37bab4b699a0513ac3601fa44": {
          "model_module": "@jupyter-widgets/controls",
          "model_name": "ProgressStyleModel",
          "model_module_version": "1.5.0",
          "state": {
            "_model_module": "@jupyter-widgets/controls",
            "_model_module_version": "1.5.0",
            "_model_name": "ProgressStyleModel",
            "_view_count": null,
            "_view_module": "@jupyter-widgets/base",
            "_view_module_version": "1.2.0",
            "_view_name": "StyleView",
            "bar_color": null,
            "description_width": ""
          }
        },
        "86e134634e7a4507afedb0b3e2617986": {
          "model_module": "@jupyter-widgets/base",
          "model_name": "LayoutModel",
          "model_module_version": "1.2.0",
          "state": {
            "_model_module": "@jupyter-widgets/base",
            "_model_module_version": "1.2.0",
            "_model_name": "LayoutModel",
            "_view_count": null,
            "_view_module": "@jupyter-widgets/base",
            "_view_module_version": "1.2.0",
            "_view_name": "LayoutView",
            "align_content": null,
            "align_items": null,
            "align_self": null,
            "border": null,
            "bottom": null,
            "display": null,
            "flex": null,
            "flex_flow": null,
            "grid_area": null,
            "grid_auto_columns": null,
            "grid_auto_flow": null,
            "grid_auto_rows": null,
            "grid_column": null,
            "grid_gap": null,
            "grid_row": null,
            "grid_template_areas": null,
            "grid_template_columns": null,
            "grid_template_rows": null,
            "height": null,
            "justify_content": null,
            "justify_items": null,
            "left": null,
            "margin": null,
            "max_height": null,
            "max_width": null,
            "min_height": null,
            "min_width": null,
            "object_fit": null,
            "object_position": null,
            "order": null,
            "overflow": null,
            "overflow_x": null,
            "overflow_y": null,
            "padding": null,
            "right": null,
            "top": null,
            "visibility": null,
            "width": null
          }
        },
        "bf926699569b4c8f8afd80a184d16f0c": {
          "model_module": "@jupyter-widgets/controls",
          "model_name": "DescriptionStyleModel",
          "model_module_version": "1.5.0",
          "state": {
            "_model_module": "@jupyter-widgets/controls",
            "_model_module_version": "1.5.0",
            "_model_name": "DescriptionStyleModel",
            "_view_count": null,
            "_view_module": "@jupyter-widgets/base",
            "_view_module_version": "1.2.0",
            "_view_name": "StyleView",
            "description_width": ""
          }
        },
        "39921a0258da4f5c9a720ef44202dfed": {
          "model_module": "@jupyter-widgets/controls",
          "model_name": "HBoxModel",
          "model_module_version": "1.5.0",
          "state": {
            "_dom_classes": [],
            "_model_module": "@jupyter-widgets/controls",
            "_model_module_version": "1.5.0",
            "_model_name": "HBoxModel",
            "_view_count": null,
            "_view_module": "@jupyter-widgets/controls",
            "_view_module_version": "1.5.0",
            "_view_name": "HBoxView",
            "box_style": "",
            "children": [
              "IPY_MODEL_68e285d91faf4f17bfbb92623f9acbcf",
              "IPY_MODEL_b664fe61a0ac4f9ab9f8b01592263fea",
              "IPY_MODEL_dcb2775f7e6448ccb8ea3a17ea6d7453"
            ],
            "layout": "IPY_MODEL_b27e6365b9f54705b9b466eb5eb7665e"
          }
        },
        "68e285d91faf4f17bfbb92623f9acbcf": {
          "model_module": "@jupyter-widgets/controls",
          "model_name": "HTMLModel",
          "model_module_version": "1.5.0",
          "state": {
            "_dom_classes": [],
            "_model_module": "@jupyter-widgets/controls",
            "_model_module_version": "1.5.0",
            "_model_name": "HTMLModel",
            "_view_count": null,
            "_view_module": "@jupyter-widgets/controls",
            "_view_module_version": "1.5.0",
            "_view_name": "HTMLView",
            "description": "",
            "description_tooltip": null,
            "layout": "IPY_MODEL_eb35087ddf82488692e903d7b27eb2b5",
            "placeholder": "​",
            "style": "IPY_MODEL_a089f755599b4b04ad8f88413583b01e",
            "value": "config.json: 100%"
          }
        },
        "b664fe61a0ac4f9ab9f8b01592263fea": {
          "model_module": "@jupyter-widgets/controls",
          "model_name": "FloatProgressModel",
          "model_module_version": "1.5.0",
          "state": {
            "_dom_classes": [],
            "_model_module": "@jupyter-widgets/controls",
            "_model_module_version": "1.5.0",
            "_model_name": "FloatProgressModel",
            "_view_count": null,
            "_view_module": "@jupyter-widgets/controls",
            "_view_module_version": "1.5.0",
            "_view_name": "ProgressView",
            "bar_style": "success",
            "description": "",
            "description_tooltip": null,
            "layout": "IPY_MODEL_02d1ae933bf140a4940177bec44ef3d3",
            "max": 483,
            "min": 0,
            "orientation": "horizontal",
            "style": "IPY_MODEL_15849b4123b145f89992afdcd0405ae9",
            "value": 483
          }
        },
        "dcb2775f7e6448ccb8ea3a17ea6d7453": {
          "model_module": "@jupyter-widgets/controls",
          "model_name": "HTMLModel",
          "model_module_version": "1.5.0",
          "state": {
            "_dom_classes": [],
            "_model_module": "@jupyter-widgets/controls",
            "_model_module_version": "1.5.0",
            "_model_name": "HTMLModel",
            "_view_count": null,
            "_view_module": "@jupyter-widgets/controls",
            "_view_module_version": "1.5.0",
            "_view_name": "HTMLView",
            "description": "",
            "description_tooltip": null,
            "layout": "IPY_MODEL_3b4f70f72980435f9609109090cda819",
            "placeholder": "​",
            "style": "IPY_MODEL_c6f3132a77084e7fb21971a2892283f5",
            "value": " 483/483 [00:00&lt;00:00, 44.6kB/s]"
          }
        },
        "b27e6365b9f54705b9b466eb5eb7665e": {
          "model_module": "@jupyter-widgets/base",
          "model_name": "LayoutModel",
          "model_module_version": "1.2.0",
          "state": {
            "_model_module": "@jupyter-widgets/base",
            "_model_module_version": "1.2.0",
            "_model_name": "LayoutModel",
            "_view_count": null,
            "_view_module": "@jupyter-widgets/base",
            "_view_module_version": "1.2.0",
            "_view_name": "LayoutView",
            "align_content": null,
            "align_items": null,
            "align_self": null,
            "border": null,
            "bottom": null,
            "display": null,
            "flex": null,
            "flex_flow": null,
            "grid_area": null,
            "grid_auto_columns": null,
            "grid_auto_flow": null,
            "grid_auto_rows": null,
            "grid_column": null,
            "grid_gap": null,
            "grid_row": null,
            "grid_template_areas": null,
            "grid_template_columns": null,
            "grid_template_rows": null,
            "height": null,
            "justify_content": null,
            "justify_items": null,
            "left": null,
            "margin": null,
            "max_height": null,
            "max_width": null,
            "min_height": null,
            "min_width": null,
            "object_fit": null,
            "object_position": null,
            "order": null,
            "overflow": null,
            "overflow_x": null,
            "overflow_y": null,
            "padding": null,
            "right": null,
            "top": null,
            "visibility": null,
            "width": null
          }
        },
        "eb35087ddf82488692e903d7b27eb2b5": {
          "model_module": "@jupyter-widgets/base",
          "model_name": "LayoutModel",
          "model_module_version": "1.2.0",
          "state": {
            "_model_module": "@jupyter-widgets/base",
            "_model_module_version": "1.2.0",
            "_model_name": "LayoutModel",
            "_view_count": null,
            "_view_module": "@jupyter-widgets/base",
            "_view_module_version": "1.2.0",
            "_view_name": "LayoutView",
            "align_content": null,
            "align_items": null,
            "align_self": null,
            "border": null,
            "bottom": null,
            "display": null,
            "flex": null,
            "flex_flow": null,
            "grid_area": null,
            "grid_auto_columns": null,
            "grid_auto_flow": null,
            "grid_auto_rows": null,
            "grid_column": null,
            "grid_gap": null,
            "grid_row": null,
            "grid_template_areas": null,
            "grid_template_columns": null,
            "grid_template_rows": null,
            "height": null,
            "justify_content": null,
            "justify_items": null,
            "left": null,
            "margin": null,
            "max_height": null,
            "max_width": null,
            "min_height": null,
            "min_width": null,
            "object_fit": null,
            "object_position": null,
            "order": null,
            "overflow": null,
            "overflow_x": null,
            "overflow_y": null,
            "padding": null,
            "right": null,
            "top": null,
            "visibility": null,
            "width": null
          }
        },
        "a089f755599b4b04ad8f88413583b01e": {
          "model_module": "@jupyter-widgets/controls",
          "model_name": "DescriptionStyleModel",
          "model_module_version": "1.5.0",
          "state": {
            "_model_module": "@jupyter-widgets/controls",
            "_model_module_version": "1.5.0",
            "_model_name": "DescriptionStyleModel",
            "_view_count": null,
            "_view_module": "@jupyter-widgets/base",
            "_view_module_version": "1.2.0",
            "_view_name": "StyleView",
            "description_width": ""
          }
        },
        "02d1ae933bf140a4940177bec44ef3d3": {
          "model_module": "@jupyter-widgets/base",
          "model_name": "LayoutModel",
          "model_module_version": "1.2.0",
          "state": {
            "_model_module": "@jupyter-widgets/base",
            "_model_module_version": "1.2.0",
            "_model_name": "LayoutModel",
            "_view_count": null,
            "_view_module": "@jupyter-widgets/base",
            "_view_module_version": "1.2.0",
            "_view_name": "LayoutView",
            "align_content": null,
            "align_items": null,
            "align_self": null,
            "border": null,
            "bottom": null,
            "display": null,
            "flex": null,
            "flex_flow": null,
            "grid_area": null,
            "grid_auto_columns": null,
            "grid_auto_flow": null,
            "grid_auto_rows": null,
            "grid_column": null,
            "grid_gap": null,
            "grid_row": null,
            "grid_template_areas": null,
            "grid_template_columns": null,
            "grid_template_rows": null,
            "height": null,
            "justify_content": null,
            "justify_items": null,
            "left": null,
            "margin": null,
            "max_height": null,
            "max_width": null,
            "min_height": null,
            "min_width": null,
            "object_fit": null,
            "object_position": null,
            "order": null,
            "overflow": null,
            "overflow_x": null,
            "overflow_y": null,
            "padding": null,
            "right": null,
            "top": null,
            "visibility": null,
            "width": null
          }
        },
        "15849b4123b145f89992afdcd0405ae9": {
          "model_module": "@jupyter-widgets/controls",
          "model_name": "ProgressStyleModel",
          "model_module_version": "1.5.0",
          "state": {
            "_model_module": "@jupyter-widgets/controls",
            "_model_module_version": "1.5.0",
            "_model_name": "ProgressStyleModel",
            "_view_count": null,
            "_view_module": "@jupyter-widgets/base",
            "_view_module_version": "1.2.0",
            "_view_name": "StyleView",
            "bar_color": null,
            "description_width": ""
          }
        },
        "3b4f70f72980435f9609109090cda819": {
          "model_module": "@jupyter-widgets/base",
          "model_name": "LayoutModel",
          "model_module_version": "1.2.0",
          "state": {
            "_model_module": "@jupyter-widgets/base",
            "_model_module_version": "1.2.0",
            "_model_name": "LayoutModel",
            "_view_count": null,
            "_view_module": "@jupyter-widgets/base",
            "_view_module_version": "1.2.0",
            "_view_name": "LayoutView",
            "align_content": null,
            "align_items": null,
            "align_self": null,
            "border": null,
            "bottom": null,
            "display": null,
            "flex": null,
            "flex_flow": null,
            "grid_area": null,
            "grid_auto_columns": null,
            "grid_auto_flow": null,
            "grid_auto_rows": null,
            "grid_column": null,
            "grid_gap": null,
            "grid_row": null,
            "grid_template_areas": null,
            "grid_template_columns": null,
            "grid_template_rows": null,
            "height": null,
            "justify_content": null,
            "justify_items": null,
            "left": null,
            "margin": null,
            "max_height": null,
            "max_width": null,
            "min_height": null,
            "min_width": null,
            "object_fit": null,
            "object_position": null,
            "order": null,
            "overflow": null,
            "overflow_x": null,
            "overflow_y": null,
            "padding": null,
            "right": null,
            "top": null,
            "visibility": null,
            "width": null
          }
        },
        "c6f3132a77084e7fb21971a2892283f5": {
          "model_module": "@jupyter-widgets/controls",
          "model_name": "DescriptionStyleModel",
          "model_module_version": "1.5.0",
          "state": {
            "_model_module": "@jupyter-widgets/controls",
            "_model_module_version": "1.5.0",
            "_model_name": "DescriptionStyleModel",
            "_view_count": null,
            "_view_module": "@jupyter-widgets/base",
            "_view_module_version": "1.2.0",
            "_view_name": "StyleView",
            "description_width": ""
          }
        },
        "08634c13bb2d455688aa2b681bf11b6a": {
          "model_module": "@jupyter-widgets/controls",
          "model_name": "HBoxModel",
          "model_module_version": "1.5.0",
          "state": {
            "_dom_classes": [],
            "_model_module": "@jupyter-widgets/controls",
            "_model_module_version": "1.5.0",
            "_model_name": "HBoxModel",
            "_view_count": null,
            "_view_module": "@jupyter-widgets/controls",
            "_view_module_version": "1.5.0",
            "_view_name": "HBoxView",
            "box_style": "",
            "children": [
              "IPY_MODEL_60b611a241344eab877f67ce83388e02",
              "IPY_MODEL_d56d9fa013394853946a885850bf3227",
              "IPY_MODEL_952af30ee945415cb3bb19cc2ccaf802"
            ],
            "layout": "IPY_MODEL_a672a1f3bb474e10b2b1d6044bc13c1f"
          }
        },
        "60b611a241344eab877f67ce83388e02": {
          "model_module": "@jupyter-widgets/controls",
          "model_name": "HTMLModel",
          "model_module_version": "1.5.0",
          "state": {
            "_dom_classes": [],
            "_model_module": "@jupyter-widgets/controls",
            "_model_module_version": "1.5.0",
            "_model_name": "HTMLModel",
            "_view_count": null,
            "_view_module": "@jupyter-widgets/controls",
            "_view_module_version": "1.5.0",
            "_view_name": "HTMLView",
            "description": "",
            "description_tooltip": null,
            "layout": "IPY_MODEL_6d647346e2f84f3189d89f97fc0c4a4d",
            "placeholder": "​",
            "style": "IPY_MODEL_242cac29a8534bf6b243d67738dd71f8",
            "value": "vocab.txt: 100%"
          }
        },
        "d56d9fa013394853946a885850bf3227": {
          "model_module": "@jupyter-widgets/controls",
          "model_name": "FloatProgressModel",
          "model_module_version": "1.5.0",
          "state": {
            "_dom_classes": [],
            "_model_module": "@jupyter-widgets/controls",
            "_model_module_version": "1.5.0",
            "_model_name": "FloatProgressModel",
            "_view_count": null,
            "_view_module": "@jupyter-widgets/controls",
            "_view_module_version": "1.5.0",
            "_view_name": "ProgressView",
            "bar_style": "success",
            "description": "",
            "description_tooltip": null,
            "layout": "IPY_MODEL_77a14deda9a54f5593242e86af07c059",
            "max": 231508,
            "min": 0,
            "orientation": "horizontal",
            "style": "IPY_MODEL_03649343a1b440fbac2b0153bff1edef",
            "value": 231508
          }
        },
        "952af30ee945415cb3bb19cc2ccaf802": {
          "model_module": "@jupyter-widgets/controls",
          "model_name": "HTMLModel",
          "model_module_version": "1.5.0",
          "state": {
            "_dom_classes": [],
            "_model_module": "@jupyter-widgets/controls",
            "_model_module_version": "1.5.0",
            "_model_name": "HTMLModel",
            "_view_count": null,
            "_view_module": "@jupyter-widgets/controls",
            "_view_module_version": "1.5.0",
            "_view_name": "HTMLView",
            "description": "",
            "description_tooltip": null,
            "layout": "IPY_MODEL_2aa985145b004e29993e0e7b8f580944",
            "placeholder": "​",
            "style": "IPY_MODEL_50bea4276dee4618a73e215638f6a32c",
            "value": " 232k/232k [00:00&lt;00:00, 16.2MB/s]"
          }
        },
        "a672a1f3bb474e10b2b1d6044bc13c1f": {
          "model_module": "@jupyter-widgets/base",
          "model_name": "LayoutModel",
          "model_module_version": "1.2.0",
          "state": {
            "_model_module": "@jupyter-widgets/base",
            "_model_module_version": "1.2.0",
            "_model_name": "LayoutModel",
            "_view_count": null,
            "_view_module": "@jupyter-widgets/base",
            "_view_module_version": "1.2.0",
            "_view_name": "LayoutView",
            "align_content": null,
            "align_items": null,
            "align_self": null,
            "border": null,
            "bottom": null,
            "display": null,
            "flex": null,
            "flex_flow": null,
            "grid_area": null,
            "grid_auto_columns": null,
            "grid_auto_flow": null,
            "grid_auto_rows": null,
            "grid_column": null,
            "grid_gap": null,
            "grid_row": null,
            "grid_template_areas": null,
            "grid_template_columns": null,
            "grid_template_rows": null,
            "height": null,
            "justify_content": null,
            "justify_items": null,
            "left": null,
            "margin": null,
            "max_height": null,
            "max_width": null,
            "min_height": null,
            "min_width": null,
            "object_fit": null,
            "object_position": null,
            "order": null,
            "overflow": null,
            "overflow_x": null,
            "overflow_y": null,
            "padding": null,
            "right": null,
            "top": null,
            "visibility": null,
            "width": null
          }
        },
        "6d647346e2f84f3189d89f97fc0c4a4d": {
          "model_module": "@jupyter-widgets/base",
          "model_name": "LayoutModel",
          "model_module_version": "1.2.0",
          "state": {
            "_model_module": "@jupyter-widgets/base",
            "_model_module_version": "1.2.0",
            "_model_name": "LayoutModel",
            "_view_count": null,
            "_view_module": "@jupyter-widgets/base",
            "_view_module_version": "1.2.0",
            "_view_name": "LayoutView",
            "align_content": null,
            "align_items": null,
            "align_self": null,
            "border": null,
            "bottom": null,
            "display": null,
            "flex": null,
            "flex_flow": null,
            "grid_area": null,
            "grid_auto_columns": null,
            "grid_auto_flow": null,
            "grid_auto_rows": null,
            "grid_column": null,
            "grid_gap": null,
            "grid_row": null,
            "grid_template_areas": null,
            "grid_template_columns": null,
            "grid_template_rows": null,
            "height": null,
            "justify_content": null,
            "justify_items": null,
            "left": null,
            "margin": null,
            "max_height": null,
            "max_width": null,
            "min_height": null,
            "min_width": null,
            "object_fit": null,
            "object_position": null,
            "order": null,
            "overflow": null,
            "overflow_x": null,
            "overflow_y": null,
            "padding": null,
            "right": null,
            "top": null,
            "visibility": null,
            "width": null
          }
        },
        "242cac29a8534bf6b243d67738dd71f8": {
          "model_module": "@jupyter-widgets/controls",
          "model_name": "DescriptionStyleModel",
          "model_module_version": "1.5.0",
          "state": {
            "_model_module": "@jupyter-widgets/controls",
            "_model_module_version": "1.5.0",
            "_model_name": "DescriptionStyleModel",
            "_view_count": null,
            "_view_module": "@jupyter-widgets/base",
            "_view_module_version": "1.2.0",
            "_view_name": "StyleView",
            "description_width": ""
          }
        },
        "77a14deda9a54f5593242e86af07c059": {
          "model_module": "@jupyter-widgets/base",
          "model_name": "LayoutModel",
          "model_module_version": "1.2.0",
          "state": {
            "_model_module": "@jupyter-widgets/base",
            "_model_module_version": "1.2.0",
            "_model_name": "LayoutModel",
            "_view_count": null,
            "_view_module": "@jupyter-widgets/base",
            "_view_module_version": "1.2.0",
            "_view_name": "LayoutView",
            "align_content": null,
            "align_items": null,
            "align_self": null,
            "border": null,
            "bottom": null,
            "display": null,
            "flex": null,
            "flex_flow": null,
            "grid_area": null,
            "grid_auto_columns": null,
            "grid_auto_flow": null,
            "grid_auto_rows": null,
            "grid_column": null,
            "grid_gap": null,
            "grid_row": null,
            "grid_template_areas": null,
            "grid_template_columns": null,
            "grid_template_rows": null,
            "height": null,
            "justify_content": null,
            "justify_items": null,
            "left": null,
            "margin": null,
            "max_height": null,
            "max_width": null,
            "min_height": null,
            "min_width": null,
            "object_fit": null,
            "object_position": null,
            "order": null,
            "overflow": null,
            "overflow_x": null,
            "overflow_y": null,
            "padding": null,
            "right": null,
            "top": null,
            "visibility": null,
            "width": null
          }
        },
        "03649343a1b440fbac2b0153bff1edef": {
          "model_module": "@jupyter-widgets/controls",
          "model_name": "ProgressStyleModel",
          "model_module_version": "1.5.0",
          "state": {
            "_model_module": "@jupyter-widgets/controls",
            "_model_module_version": "1.5.0",
            "_model_name": "ProgressStyleModel",
            "_view_count": null,
            "_view_module": "@jupyter-widgets/base",
            "_view_module_version": "1.2.0",
            "_view_name": "StyleView",
            "bar_color": null,
            "description_width": ""
          }
        },
        "2aa985145b004e29993e0e7b8f580944": {
          "model_module": "@jupyter-widgets/base",
          "model_name": "LayoutModel",
          "model_module_version": "1.2.0",
          "state": {
            "_model_module": "@jupyter-widgets/base",
            "_model_module_version": "1.2.0",
            "_model_name": "LayoutModel",
            "_view_count": null,
            "_view_module": "@jupyter-widgets/base",
            "_view_module_version": "1.2.0",
            "_view_name": "LayoutView",
            "align_content": null,
            "align_items": null,
            "align_self": null,
            "border": null,
            "bottom": null,
            "display": null,
            "flex": null,
            "flex_flow": null,
            "grid_area": null,
            "grid_auto_columns": null,
            "grid_auto_flow": null,
            "grid_auto_rows": null,
            "grid_column": null,
            "grid_gap": null,
            "grid_row": null,
            "grid_template_areas": null,
            "grid_template_columns": null,
            "grid_template_rows": null,
            "height": null,
            "justify_content": null,
            "justify_items": null,
            "left": null,
            "margin": null,
            "max_height": null,
            "max_width": null,
            "min_height": null,
            "min_width": null,
            "object_fit": null,
            "object_position": null,
            "order": null,
            "overflow": null,
            "overflow_x": null,
            "overflow_y": null,
            "padding": null,
            "right": null,
            "top": null,
            "visibility": null,
            "width": null
          }
        },
        "50bea4276dee4618a73e215638f6a32c": {
          "model_module": "@jupyter-widgets/controls",
          "model_name": "DescriptionStyleModel",
          "model_module_version": "1.5.0",
          "state": {
            "_model_module": "@jupyter-widgets/controls",
            "_model_module_version": "1.5.0",
            "_model_name": "DescriptionStyleModel",
            "_view_count": null,
            "_view_module": "@jupyter-widgets/base",
            "_view_module_version": "1.2.0",
            "_view_name": "StyleView",
            "description_width": ""
          }
        },
        "e7c13ca31500440fb7b01a79d16fef78": {
          "model_module": "@jupyter-widgets/controls",
          "model_name": "HBoxModel",
          "model_module_version": "1.5.0",
          "state": {
            "_dom_classes": [],
            "_model_module": "@jupyter-widgets/controls",
            "_model_module_version": "1.5.0",
            "_model_name": "HBoxModel",
            "_view_count": null,
            "_view_module": "@jupyter-widgets/controls",
            "_view_module_version": "1.5.0",
            "_view_name": "HBoxView",
            "box_style": "",
            "children": [
              "IPY_MODEL_82f0a7fda0634b0b9f8936d1be872f77",
              "IPY_MODEL_c5ccfae79e264e3493e49850bf57212a",
              "IPY_MODEL_8f3a71f10355402caaa2f7403a064d18"
            ],
            "layout": "IPY_MODEL_e3e813ad4a094256be22c36e17ae9083"
          }
        },
        "82f0a7fda0634b0b9f8936d1be872f77": {
          "model_module": "@jupyter-widgets/controls",
          "model_name": "HTMLModel",
          "model_module_version": "1.5.0",
          "state": {
            "_dom_classes": [],
            "_model_module": "@jupyter-widgets/controls",
            "_model_module_version": "1.5.0",
            "_model_name": "HTMLModel",
            "_view_count": null,
            "_view_module": "@jupyter-widgets/controls",
            "_view_module_version": "1.5.0",
            "_view_name": "HTMLView",
            "description": "",
            "description_tooltip": null,
            "layout": "IPY_MODEL_57aff784bd0c413aa306f37d1c1aad73",
            "placeholder": "​",
            "style": "IPY_MODEL_9401e934b23845d6a11b13631fd1a68d",
            "value": "tokenizer.json: 100%"
          }
        },
        "c5ccfae79e264e3493e49850bf57212a": {
          "model_module": "@jupyter-widgets/controls",
          "model_name": "FloatProgressModel",
          "model_module_version": "1.5.0",
          "state": {
            "_dom_classes": [],
            "_model_module": "@jupyter-widgets/controls",
            "_model_module_version": "1.5.0",
            "_model_name": "FloatProgressModel",
            "_view_count": null,
            "_view_module": "@jupyter-widgets/controls",
            "_view_module_version": "1.5.0",
            "_view_name": "ProgressView",
            "bar_style": "success",
            "description": "",
            "description_tooltip": null,
            "layout": "IPY_MODEL_e2fe698a9d024e768f8dabf3e8264ab1",
            "max": 466062,
            "min": 0,
            "orientation": "horizontal",
            "style": "IPY_MODEL_75895e7b650b4141828956acd45b12d4",
            "value": 466062
          }
        },
        "8f3a71f10355402caaa2f7403a064d18": {
          "model_module": "@jupyter-widgets/controls",
          "model_name": "HTMLModel",
          "model_module_version": "1.5.0",
          "state": {
            "_dom_classes": [],
            "_model_module": "@jupyter-widgets/controls",
            "_model_module_version": "1.5.0",
            "_model_name": "HTMLModel",
            "_view_count": null,
            "_view_module": "@jupyter-widgets/controls",
            "_view_module_version": "1.5.0",
            "_view_name": "HTMLView",
            "description": "",
            "description_tooltip": null,
            "layout": "IPY_MODEL_717f9c4530024619a0fe9651eed7dbfd",
            "placeholder": "​",
            "style": "IPY_MODEL_986873d8bb0a4d4da719b55f5cb38694",
            "value": " 466k/466k [00:00&lt;00:00, 2.84MB/s]"
          }
        },
        "e3e813ad4a094256be22c36e17ae9083": {
          "model_module": "@jupyter-widgets/base",
          "model_name": "LayoutModel",
          "model_module_version": "1.2.0",
          "state": {
            "_model_module": "@jupyter-widgets/base",
            "_model_module_version": "1.2.0",
            "_model_name": "LayoutModel",
            "_view_count": null,
            "_view_module": "@jupyter-widgets/base",
            "_view_module_version": "1.2.0",
            "_view_name": "LayoutView",
            "align_content": null,
            "align_items": null,
            "align_self": null,
            "border": null,
            "bottom": null,
            "display": null,
            "flex": null,
            "flex_flow": null,
            "grid_area": null,
            "grid_auto_columns": null,
            "grid_auto_flow": null,
            "grid_auto_rows": null,
            "grid_column": null,
            "grid_gap": null,
            "grid_row": null,
            "grid_template_areas": null,
            "grid_template_columns": null,
            "grid_template_rows": null,
            "height": null,
            "justify_content": null,
            "justify_items": null,
            "left": null,
            "margin": null,
            "max_height": null,
            "max_width": null,
            "min_height": null,
            "min_width": null,
            "object_fit": null,
            "object_position": null,
            "order": null,
            "overflow": null,
            "overflow_x": null,
            "overflow_y": null,
            "padding": null,
            "right": null,
            "top": null,
            "visibility": null,
            "width": null
          }
        },
        "57aff784bd0c413aa306f37d1c1aad73": {
          "model_module": "@jupyter-widgets/base",
          "model_name": "LayoutModel",
          "model_module_version": "1.2.0",
          "state": {
            "_model_module": "@jupyter-widgets/base",
            "_model_module_version": "1.2.0",
            "_model_name": "LayoutModel",
            "_view_count": null,
            "_view_module": "@jupyter-widgets/base",
            "_view_module_version": "1.2.0",
            "_view_name": "LayoutView",
            "align_content": null,
            "align_items": null,
            "align_self": null,
            "border": null,
            "bottom": null,
            "display": null,
            "flex": null,
            "flex_flow": null,
            "grid_area": null,
            "grid_auto_columns": null,
            "grid_auto_flow": null,
            "grid_auto_rows": null,
            "grid_column": null,
            "grid_gap": null,
            "grid_row": null,
            "grid_template_areas": null,
            "grid_template_columns": null,
            "grid_template_rows": null,
            "height": null,
            "justify_content": null,
            "justify_items": null,
            "left": null,
            "margin": null,
            "max_height": null,
            "max_width": null,
            "min_height": null,
            "min_width": null,
            "object_fit": null,
            "object_position": null,
            "order": null,
            "overflow": null,
            "overflow_x": null,
            "overflow_y": null,
            "padding": null,
            "right": null,
            "top": null,
            "visibility": null,
            "width": null
          }
        },
        "9401e934b23845d6a11b13631fd1a68d": {
          "model_module": "@jupyter-widgets/controls",
          "model_name": "DescriptionStyleModel",
          "model_module_version": "1.5.0",
          "state": {
            "_model_module": "@jupyter-widgets/controls",
            "_model_module_version": "1.5.0",
            "_model_name": "DescriptionStyleModel",
            "_view_count": null,
            "_view_module": "@jupyter-widgets/base",
            "_view_module_version": "1.2.0",
            "_view_name": "StyleView",
            "description_width": ""
          }
        },
        "e2fe698a9d024e768f8dabf3e8264ab1": {
          "model_module": "@jupyter-widgets/base",
          "model_name": "LayoutModel",
          "model_module_version": "1.2.0",
          "state": {
            "_model_module": "@jupyter-widgets/base",
            "_model_module_version": "1.2.0",
            "_model_name": "LayoutModel",
            "_view_count": null,
            "_view_module": "@jupyter-widgets/base",
            "_view_module_version": "1.2.0",
            "_view_name": "LayoutView",
            "align_content": null,
            "align_items": null,
            "align_self": null,
            "border": null,
            "bottom": null,
            "display": null,
            "flex": null,
            "flex_flow": null,
            "grid_area": null,
            "grid_auto_columns": null,
            "grid_auto_flow": null,
            "grid_auto_rows": null,
            "grid_column": null,
            "grid_gap": null,
            "grid_row": null,
            "grid_template_areas": null,
            "grid_template_columns": null,
            "grid_template_rows": null,
            "height": null,
            "justify_content": null,
            "justify_items": null,
            "left": null,
            "margin": null,
            "max_height": null,
            "max_width": null,
            "min_height": null,
            "min_width": null,
            "object_fit": null,
            "object_position": null,
            "order": null,
            "overflow": null,
            "overflow_x": null,
            "overflow_y": null,
            "padding": null,
            "right": null,
            "top": null,
            "visibility": null,
            "width": null
          }
        },
        "75895e7b650b4141828956acd45b12d4": {
          "model_module": "@jupyter-widgets/controls",
          "model_name": "ProgressStyleModel",
          "model_module_version": "1.5.0",
          "state": {
            "_model_module": "@jupyter-widgets/controls",
            "_model_module_version": "1.5.0",
            "_model_name": "ProgressStyleModel",
            "_view_count": null,
            "_view_module": "@jupyter-widgets/base",
            "_view_module_version": "1.2.0",
            "_view_name": "StyleView",
            "bar_color": null,
            "description_width": ""
          }
        },
        "717f9c4530024619a0fe9651eed7dbfd": {
          "model_module": "@jupyter-widgets/base",
          "model_name": "LayoutModel",
          "model_module_version": "1.2.0",
          "state": {
            "_model_module": "@jupyter-widgets/base",
            "_model_module_version": "1.2.0",
            "_model_name": "LayoutModel",
            "_view_count": null,
            "_view_module": "@jupyter-widgets/base",
            "_view_module_version": "1.2.0",
            "_view_name": "LayoutView",
            "align_content": null,
            "align_items": null,
            "align_self": null,
            "border": null,
            "bottom": null,
            "display": null,
            "flex": null,
            "flex_flow": null,
            "grid_area": null,
            "grid_auto_columns": null,
            "grid_auto_flow": null,
            "grid_auto_rows": null,
            "grid_column": null,
            "grid_gap": null,
            "grid_row": null,
            "grid_template_areas": null,
            "grid_template_columns": null,
            "grid_template_rows": null,
            "height": null,
            "justify_content": null,
            "justify_items": null,
            "left": null,
            "margin": null,
            "max_height": null,
            "max_width": null,
            "min_height": null,
            "min_width": null,
            "object_fit": null,
            "object_position": null,
            "order": null,
            "overflow": null,
            "overflow_x": null,
            "overflow_y": null,
            "padding": null,
            "right": null,
            "top": null,
            "visibility": null,
            "width": null
          }
        },
        "986873d8bb0a4d4da719b55f5cb38694": {
          "model_module": "@jupyter-widgets/controls",
          "model_name": "DescriptionStyleModel",
          "model_module_version": "1.5.0",
          "state": {
            "_model_module": "@jupyter-widgets/controls",
            "_model_module_version": "1.5.0",
            "_model_name": "DescriptionStyleModel",
            "_view_count": null,
            "_view_module": "@jupyter-widgets/base",
            "_view_module_version": "1.2.0",
            "_view_name": "StyleView",
            "description_width": ""
          }
        },
        "6992d2f4c2634146938640651ed68fff": {
          "model_module": "@jupyter-widgets/controls",
          "model_name": "HBoxModel",
          "model_module_version": "1.5.0",
          "state": {
            "_dom_classes": [],
            "_model_module": "@jupyter-widgets/controls",
            "_model_module_version": "1.5.0",
            "_model_name": "HBoxModel",
            "_view_count": null,
            "_view_module": "@jupyter-widgets/controls",
            "_view_module_version": "1.5.0",
            "_view_name": "HBoxView",
            "box_style": "",
            "children": [
              "IPY_MODEL_a736ec261d2542d5845cdd207a21c7b6",
              "IPY_MODEL_97f5e3b3c157486b828e015efb825ab0",
              "IPY_MODEL_fc3bb6c54c464fa09ef83012c5b0a1fa"
            ],
            "layout": "IPY_MODEL_53d04ffaaf734eb0943e0c717cc451f6"
          }
        },
        "a736ec261d2542d5845cdd207a21c7b6": {
          "model_module": "@jupyter-widgets/controls",
          "model_name": "HTMLModel",
          "model_module_version": "1.5.0",
          "state": {
            "_dom_classes": [],
            "_model_module": "@jupyter-widgets/controls",
            "_model_module_version": "1.5.0",
            "_model_name": "HTMLModel",
            "_view_count": null,
            "_view_module": "@jupyter-widgets/controls",
            "_view_module_version": "1.5.0",
            "_view_name": "HTMLView",
            "description": "",
            "description_tooltip": null,
            "layout": "IPY_MODEL_fa935306cbee45588de34487393ad2e8",
            "placeholder": "​",
            "style": "IPY_MODEL_dc17cbe1774049cb8ee21fd8c5c070d0",
            "value": "Map: 100%"
          }
        },
        "97f5e3b3c157486b828e015efb825ab0": {
          "model_module": "@jupyter-widgets/controls",
          "model_name": "FloatProgressModel",
          "model_module_version": "1.5.0",
          "state": {
            "_dom_classes": [],
            "_model_module": "@jupyter-widgets/controls",
            "_model_module_version": "1.5.0",
            "_model_name": "FloatProgressModel",
            "_view_count": null,
            "_view_module": "@jupyter-widgets/controls",
            "_view_module_version": "1.5.0",
            "_view_name": "ProgressView",
            "bar_style": "success",
            "description": "",
            "description_tooltip": null,
            "layout": "IPY_MODEL_40a0745c55db41b7b1c6c687384a13db",
            "max": 1000,
            "min": 0,
            "orientation": "horizontal",
            "style": "IPY_MODEL_4aabd7d8998e4e70bf9bcffdbe84cc25",
            "value": 1000
          }
        },
        "fc3bb6c54c464fa09ef83012c5b0a1fa": {
          "model_module": "@jupyter-widgets/controls",
          "model_name": "HTMLModel",
          "model_module_version": "1.5.0",
          "state": {
            "_dom_classes": [],
            "_model_module": "@jupyter-widgets/controls",
            "_model_module_version": "1.5.0",
            "_model_name": "HTMLModel",
            "_view_count": null,
            "_view_module": "@jupyter-widgets/controls",
            "_view_module_version": "1.5.0",
            "_view_name": "HTMLView",
            "description": "",
            "description_tooltip": null,
            "layout": "IPY_MODEL_0e1f501313b549448bd0afd6b7d3c527",
            "placeholder": "​",
            "style": "IPY_MODEL_26fdac32ba4b499aa06a5cadb855f88a",
            "value": " 1000/1000 [00:00&lt;00:00, 4143.47 examples/s]"
          }
        },
        "53d04ffaaf734eb0943e0c717cc451f6": {
          "model_module": "@jupyter-widgets/base",
          "model_name": "LayoutModel",
          "model_module_version": "1.2.0",
          "state": {
            "_model_module": "@jupyter-widgets/base",
            "_model_module_version": "1.2.0",
            "_model_name": "LayoutModel",
            "_view_count": null,
            "_view_module": "@jupyter-widgets/base",
            "_view_module_version": "1.2.0",
            "_view_name": "LayoutView",
            "align_content": null,
            "align_items": null,
            "align_self": null,
            "border": null,
            "bottom": null,
            "display": null,
            "flex": null,
            "flex_flow": null,
            "grid_area": null,
            "grid_auto_columns": null,
            "grid_auto_flow": null,
            "grid_auto_rows": null,
            "grid_column": null,
            "grid_gap": null,
            "grid_row": null,
            "grid_template_areas": null,
            "grid_template_columns": null,
            "grid_template_rows": null,
            "height": null,
            "justify_content": null,
            "justify_items": null,
            "left": null,
            "margin": null,
            "max_height": null,
            "max_width": null,
            "min_height": null,
            "min_width": null,
            "object_fit": null,
            "object_position": null,
            "order": null,
            "overflow": null,
            "overflow_x": null,
            "overflow_y": null,
            "padding": null,
            "right": null,
            "top": null,
            "visibility": null,
            "width": null
          }
        },
        "fa935306cbee45588de34487393ad2e8": {
          "model_module": "@jupyter-widgets/base",
          "model_name": "LayoutModel",
          "model_module_version": "1.2.0",
          "state": {
            "_model_module": "@jupyter-widgets/base",
            "_model_module_version": "1.2.0",
            "_model_name": "LayoutModel",
            "_view_count": null,
            "_view_module": "@jupyter-widgets/base",
            "_view_module_version": "1.2.0",
            "_view_name": "LayoutView",
            "align_content": null,
            "align_items": null,
            "align_self": null,
            "border": null,
            "bottom": null,
            "display": null,
            "flex": null,
            "flex_flow": null,
            "grid_area": null,
            "grid_auto_columns": null,
            "grid_auto_flow": null,
            "grid_auto_rows": null,
            "grid_column": null,
            "grid_gap": null,
            "grid_row": null,
            "grid_template_areas": null,
            "grid_template_columns": null,
            "grid_template_rows": null,
            "height": null,
            "justify_content": null,
            "justify_items": null,
            "left": null,
            "margin": null,
            "max_height": null,
            "max_width": null,
            "min_height": null,
            "min_width": null,
            "object_fit": null,
            "object_position": null,
            "order": null,
            "overflow": null,
            "overflow_x": null,
            "overflow_y": null,
            "padding": null,
            "right": null,
            "top": null,
            "visibility": null,
            "width": null
          }
        },
        "dc17cbe1774049cb8ee21fd8c5c070d0": {
          "model_module": "@jupyter-widgets/controls",
          "model_name": "DescriptionStyleModel",
          "model_module_version": "1.5.0",
          "state": {
            "_model_module": "@jupyter-widgets/controls",
            "_model_module_version": "1.5.0",
            "_model_name": "DescriptionStyleModel",
            "_view_count": null,
            "_view_module": "@jupyter-widgets/base",
            "_view_module_version": "1.2.0",
            "_view_name": "StyleView",
            "description_width": ""
          }
        },
        "40a0745c55db41b7b1c6c687384a13db": {
          "model_module": "@jupyter-widgets/base",
          "model_name": "LayoutModel",
          "model_module_version": "1.2.0",
          "state": {
            "_model_module": "@jupyter-widgets/base",
            "_model_module_version": "1.2.0",
            "_model_name": "LayoutModel",
            "_view_count": null,
            "_view_module": "@jupyter-widgets/base",
            "_view_module_version": "1.2.0",
            "_view_name": "LayoutView",
            "align_content": null,
            "align_items": null,
            "align_self": null,
            "border": null,
            "bottom": null,
            "display": null,
            "flex": null,
            "flex_flow": null,
            "grid_area": null,
            "grid_auto_columns": null,
            "grid_auto_flow": null,
            "grid_auto_rows": null,
            "grid_column": null,
            "grid_gap": null,
            "grid_row": null,
            "grid_template_areas": null,
            "grid_template_columns": null,
            "grid_template_rows": null,
            "height": null,
            "justify_content": null,
            "justify_items": null,
            "left": null,
            "margin": null,
            "max_height": null,
            "max_width": null,
            "min_height": null,
            "min_width": null,
            "object_fit": null,
            "object_position": null,
            "order": null,
            "overflow": null,
            "overflow_x": null,
            "overflow_y": null,
            "padding": null,
            "right": null,
            "top": null,
            "visibility": null,
            "width": null
          }
        },
        "4aabd7d8998e4e70bf9bcffdbe84cc25": {
          "model_module": "@jupyter-widgets/controls",
          "model_name": "ProgressStyleModel",
          "model_module_version": "1.5.0",
          "state": {
            "_model_module": "@jupyter-widgets/controls",
            "_model_module_version": "1.5.0",
            "_model_name": "ProgressStyleModel",
            "_view_count": null,
            "_view_module": "@jupyter-widgets/base",
            "_view_module_version": "1.2.0",
            "_view_name": "StyleView",
            "bar_color": null,
            "description_width": ""
          }
        },
        "0e1f501313b549448bd0afd6b7d3c527": {
          "model_module": "@jupyter-widgets/base",
          "model_name": "LayoutModel",
          "model_module_version": "1.2.0",
          "state": {
            "_model_module": "@jupyter-widgets/base",
            "_model_module_version": "1.2.0",
            "_model_name": "LayoutModel",
            "_view_count": null,
            "_view_module": "@jupyter-widgets/base",
            "_view_module_version": "1.2.0",
            "_view_name": "LayoutView",
            "align_content": null,
            "align_items": null,
            "align_self": null,
            "border": null,
            "bottom": null,
            "display": null,
            "flex": null,
            "flex_flow": null,
            "grid_area": null,
            "grid_auto_columns": null,
            "grid_auto_flow": null,
            "grid_auto_rows": null,
            "grid_column": null,
            "grid_gap": null,
            "grid_row": null,
            "grid_template_areas": null,
            "grid_template_columns": null,
            "grid_template_rows": null,
            "height": null,
            "justify_content": null,
            "justify_items": null,
            "left": null,
            "margin": null,
            "max_height": null,
            "max_width": null,
            "min_height": null,
            "min_width": null,
            "object_fit": null,
            "object_position": null,
            "order": null,
            "overflow": null,
            "overflow_x": null,
            "overflow_y": null,
            "padding": null,
            "right": null,
            "top": null,
            "visibility": null,
            "width": null
          }
        },
        "26fdac32ba4b499aa06a5cadb855f88a": {
          "model_module": "@jupyter-widgets/controls",
          "model_name": "DescriptionStyleModel",
          "model_module_version": "1.5.0",
          "state": {
            "_model_module": "@jupyter-widgets/controls",
            "_model_module_version": "1.5.0",
            "_model_name": "DescriptionStyleModel",
            "_view_count": null,
            "_view_module": "@jupyter-widgets/base",
            "_view_module_version": "1.2.0",
            "_view_name": "StyleView",
            "description_width": ""
          }
        },
        "6c82693e854746a5ac82dce35157c0c0": {
          "model_module": "@jupyter-widgets/controls",
          "model_name": "HBoxModel",
          "model_module_version": "1.5.0",
          "state": {
            "_dom_classes": [],
            "_model_module": "@jupyter-widgets/controls",
            "_model_module_version": "1.5.0",
            "_model_name": "HBoxModel",
            "_view_count": null,
            "_view_module": "@jupyter-widgets/controls",
            "_view_module_version": "1.5.0",
            "_view_name": "HBoxView",
            "box_style": "",
            "children": [
              "IPY_MODEL_4cf8f7373f5149d180c409339e904259",
              "IPY_MODEL_1e4a9b9b2c0a45f79b0569699f6db8e1",
              "IPY_MODEL_0e89e225469a44b387561646717932eb"
            ],
            "layout": "IPY_MODEL_335633ce7d194e4e9749b11fda9bd5be"
          }
        },
        "4cf8f7373f5149d180c409339e904259": {
          "model_module": "@jupyter-widgets/controls",
          "model_name": "HTMLModel",
          "model_module_version": "1.5.0",
          "state": {
            "_dom_classes": [],
            "_model_module": "@jupyter-widgets/controls",
            "_model_module_version": "1.5.0",
            "_model_name": "HTMLModel",
            "_view_count": null,
            "_view_module": "@jupyter-widgets/controls",
            "_view_module_version": "1.5.0",
            "_view_name": "HTMLView",
            "description": "",
            "description_tooltip": null,
            "layout": "IPY_MODEL_2f28ced4c9dc450483f1923f11357854",
            "placeholder": "​",
            "style": "IPY_MODEL_2d026f809e664a8aa4bbc713148a6392",
            "value": "Map: 100%"
          }
        },
        "1e4a9b9b2c0a45f79b0569699f6db8e1": {
          "model_module": "@jupyter-widgets/controls",
          "model_name": "FloatProgressModel",
          "model_module_version": "1.5.0",
          "state": {
            "_dom_classes": [],
            "_model_module": "@jupyter-widgets/controls",
            "_model_module_version": "1.5.0",
            "_model_name": "FloatProgressModel",
            "_view_count": null,
            "_view_module": "@jupyter-widgets/controls",
            "_view_module_version": "1.5.0",
            "_view_name": "ProgressView",
            "bar_style": "success",
            "description": "",
            "description_tooltip": null,
            "layout": "IPY_MODEL_baecb25964c9470191ebf81a29797b63",
            "max": 200,
            "min": 0,
            "orientation": "horizontal",
            "style": "IPY_MODEL_8a3089a9bc254affa26b6a97650f9009",
            "value": 200
          }
        },
        "0e89e225469a44b387561646717932eb": {
          "model_module": "@jupyter-widgets/controls",
          "model_name": "HTMLModel",
          "model_module_version": "1.5.0",
          "state": {
            "_dom_classes": [],
            "_model_module": "@jupyter-widgets/controls",
            "_model_module_version": "1.5.0",
            "_model_name": "HTMLModel",
            "_view_count": null,
            "_view_module": "@jupyter-widgets/controls",
            "_view_module_version": "1.5.0",
            "_view_name": "HTMLView",
            "description": "",
            "description_tooltip": null,
            "layout": "IPY_MODEL_46cf169383194d90b41c55c58db256bc",
            "placeholder": "​",
            "style": "IPY_MODEL_3dcd0ce4722a41c1b3f150db68b78d0f",
            "value": " 200/200 [00:00&lt;00:00, 2843.42 examples/s]"
          }
        },
        "335633ce7d194e4e9749b11fda9bd5be": {
          "model_module": "@jupyter-widgets/base",
          "model_name": "LayoutModel",
          "model_module_version": "1.2.0",
          "state": {
            "_model_module": "@jupyter-widgets/base",
            "_model_module_version": "1.2.0",
            "_model_name": "LayoutModel",
            "_view_count": null,
            "_view_module": "@jupyter-widgets/base",
            "_view_module_version": "1.2.0",
            "_view_name": "LayoutView",
            "align_content": null,
            "align_items": null,
            "align_self": null,
            "border": null,
            "bottom": null,
            "display": null,
            "flex": null,
            "flex_flow": null,
            "grid_area": null,
            "grid_auto_columns": null,
            "grid_auto_flow": null,
            "grid_auto_rows": null,
            "grid_column": null,
            "grid_gap": null,
            "grid_row": null,
            "grid_template_areas": null,
            "grid_template_columns": null,
            "grid_template_rows": null,
            "height": null,
            "justify_content": null,
            "justify_items": null,
            "left": null,
            "margin": null,
            "max_height": null,
            "max_width": null,
            "min_height": null,
            "min_width": null,
            "object_fit": null,
            "object_position": null,
            "order": null,
            "overflow": null,
            "overflow_x": null,
            "overflow_y": null,
            "padding": null,
            "right": null,
            "top": null,
            "visibility": null,
            "width": null
          }
        },
        "2f28ced4c9dc450483f1923f11357854": {
          "model_module": "@jupyter-widgets/base",
          "model_name": "LayoutModel",
          "model_module_version": "1.2.0",
          "state": {
            "_model_module": "@jupyter-widgets/base",
            "_model_module_version": "1.2.0",
            "_model_name": "LayoutModel",
            "_view_count": null,
            "_view_module": "@jupyter-widgets/base",
            "_view_module_version": "1.2.0",
            "_view_name": "LayoutView",
            "align_content": null,
            "align_items": null,
            "align_self": null,
            "border": null,
            "bottom": null,
            "display": null,
            "flex": null,
            "flex_flow": null,
            "grid_area": null,
            "grid_auto_columns": null,
            "grid_auto_flow": null,
            "grid_auto_rows": null,
            "grid_column": null,
            "grid_gap": null,
            "grid_row": null,
            "grid_template_areas": null,
            "grid_template_columns": null,
            "grid_template_rows": null,
            "height": null,
            "justify_content": null,
            "justify_items": null,
            "left": null,
            "margin": null,
            "max_height": null,
            "max_width": null,
            "min_height": null,
            "min_width": null,
            "object_fit": null,
            "object_position": null,
            "order": null,
            "overflow": null,
            "overflow_x": null,
            "overflow_y": null,
            "padding": null,
            "right": null,
            "top": null,
            "visibility": null,
            "width": null
          }
        },
        "2d026f809e664a8aa4bbc713148a6392": {
          "model_module": "@jupyter-widgets/controls",
          "model_name": "DescriptionStyleModel",
          "model_module_version": "1.5.0",
          "state": {
            "_model_module": "@jupyter-widgets/controls",
            "_model_module_version": "1.5.0",
            "_model_name": "DescriptionStyleModel",
            "_view_count": null,
            "_view_module": "@jupyter-widgets/base",
            "_view_module_version": "1.2.0",
            "_view_name": "StyleView",
            "description_width": ""
          }
        },
        "baecb25964c9470191ebf81a29797b63": {
          "model_module": "@jupyter-widgets/base",
          "model_name": "LayoutModel",
          "model_module_version": "1.2.0",
          "state": {
            "_model_module": "@jupyter-widgets/base",
            "_model_module_version": "1.2.0",
            "_model_name": "LayoutModel",
            "_view_count": null,
            "_view_module": "@jupyter-widgets/base",
            "_view_module_version": "1.2.0",
            "_view_name": "LayoutView",
            "align_content": null,
            "align_items": null,
            "align_self": null,
            "border": null,
            "bottom": null,
            "display": null,
            "flex": null,
            "flex_flow": null,
            "grid_area": null,
            "grid_auto_columns": null,
            "grid_auto_flow": null,
            "grid_auto_rows": null,
            "grid_column": null,
            "grid_gap": null,
            "grid_row": null,
            "grid_template_areas": null,
            "grid_template_columns": null,
            "grid_template_rows": null,
            "height": null,
            "justify_content": null,
            "justify_items": null,
            "left": null,
            "margin": null,
            "max_height": null,
            "max_width": null,
            "min_height": null,
            "min_width": null,
            "object_fit": null,
            "object_position": null,
            "order": null,
            "overflow": null,
            "overflow_x": null,
            "overflow_y": null,
            "padding": null,
            "right": null,
            "top": null,
            "visibility": null,
            "width": null
          }
        },
        "8a3089a9bc254affa26b6a97650f9009": {
          "model_module": "@jupyter-widgets/controls",
          "model_name": "ProgressStyleModel",
          "model_module_version": "1.5.0",
          "state": {
            "_model_module": "@jupyter-widgets/controls",
            "_model_module_version": "1.5.0",
            "_model_name": "ProgressStyleModel",
            "_view_count": null,
            "_view_module": "@jupyter-widgets/base",
            "_view_module_version": "1.2.0",
            "_view_name": "StyleView",
            "bar_color": null,
            "description_width": ""
          }
        },
        "46cf169383194d90b41c55c58db256bc": {
          "model_module": "@jupyter-widgets/base",
          "model_name": "LayoutModel",
          "model_module_version": "1.2.0",
          "state": {
            "_model_module": "@jupyter-widgets/base",
            "_model_module_version": "1.2.0",
            "_model_name": "LayoutModel",
            "_view_count": null,
            "_view_module": "@jupyter-widgets/base",
            "_view_module_version": "1.2.0",
            "_view_name": "LayoutView",
            "align_content": null,
            "align_items": null,
            "align_self": null,
            "border": null,
            "bottom": null,
            "display": null,
            "flex": null,
            "flex_flow": null,
            "grid_area": null,
            "grid_auto_columns": null,
            "grid_auto_flow": null,
            "grid_auto_rows": null,
            "grid_column": null,
            "grid_gap": null,
            "grid_row": null,
            "grid_template_areas": null,
            "grid_template_columns": null,
            "grid_template_rows": null,
            "height": null,
            "justify_content": null,
            "justify_items": null,
            "left": null,
            "margin": null,
            "max_height": null,
            "max_width": null,
            "min_height": null,
            "min_width": null,
            "object_fit": null,
            "object_position": null,
            "order": null,
            "overflow": null,
            "overflow_x": null,
            "overflow_y": null,
            "padding": null,
            "right": null,
            "top": null,
            "visibility": null,
            "width": null
          }
        },
        "3dcd0ce4722a41c1b3f150db68b78d0f": {
          "model_module": "@jupyter-widgets/controls",
          "model_name": "DescriptionStyleModel",
          "model_module_version": "1.5.0",
          "state": {
            "_model_module": "@jupyter-widgets/controls",
            "_model_module_version": "1.5.0",
            "_model_name": "DescriptionStyleModel",
            "_view_count": null,
            "_view_module": "@jupyter-widgets/base",
            "_view_module_version": "1.2.0",
            "_view_name": "StyleView",
            "description_width": ""
          }
        }
      }
    }
  },
  "cells": [
    {
      "cell_type": "code",
      "source": [
        "!pip install -q pandas==2.2.2"
      ],
      "metadata": {
        "id": "2niApVWQCPPC"
      },
      "execution_count": null,
      "outputs": []
    },
    {
      "cell_type": "code",
      "source": [
        "# Clone the repository\n",
        "!git clone https://github.com/ensemble-core/NdLinear.git\n",
        "%cd NdLinear\n",
        "\n",
        "# Open the file and modify the required Python version.\n",
        "# This uses sed to replace '>=3.12' with '>=3.11'\n",
        "!sed -i 's/>=3\\.12/>=3\\.11/g' pyproject.toml\n",
        "\n",
        "# Install the package\n",
        "!pip install -q ."
      ],
      "metadata": {
        "id": "bgzqNgvvAozR"
      },
      "execution_count": null,
      "outputs": []
    },
    {
      "cell_type": "code",
      "source": [
        "!pip install datasets transformers"
      ],
      "metadata": {
        "id": "ORm05uT9Jxl9"
      },
      "execution_count": null,
      "outputs": []
    },
    {
      "cell_type": "code",
      "source": [
        "import torch\n",
        "from ndlinear import NdLinear\n",
        "import torch.nn as nn\n",
        "import torch.nn.functional as F\n",
        "import torch.optim as optim\n",
        "from torchvision import datasets, transforms\n",
        "from torch.utils.data import DataLoader, Dataset\n",
        "import time\n",
        "from transformers import AutoTokenizer\n",
        "from datasets import load_dataset\n",
        "import math\n",
        "import matplotlib.pyplot as plt"
      ],
      "metadata": {
        "id": "2NTnjEWhBUox"
      },
      "execution_count": 42,
      "outputs": []
    },
    {
      "cell_type": "code",
      "source": [
        "device = torch.device(\"cuda\" if torch.cuda.is_available() else \"cpu\")\n",
        "print(\"Using device:\", device)\n",
        "transform = transforms.Compose([\n",
        "    transforms.ToTensor(),\n",
        "    transforms.Normalize((0.1307,), (0.3081,))\n",
        "])\n",
        "train_dataset = datasets.EMNIST(root='./data', split='digits', train=True, download=True, transform=transform)\n",
        "test_dataset  = datasets.EMNIST(root='./data', split='digits', train=False, download=True, transform=transform)\n",
        "train_loader = DataLoader(train_dataset, batch_size=64, shuffle=True)\n",
        "test_loader  = DataLoader(test_dataset, batch_size=1000, shuffle=False)\n",
        "num_classes = 10"
      ],
      "metadata": {
        "colab": {
          "base_uri": "https://localhost:8080/"
        },
        "id": "OveMFglHDB83",
        "outputId": "58ff8798-e6fe-4e30-b5d1-4b72f6d1e469"
      },
      "execution_count": 21,
      "outputs": [
        {
          "output_type": "stream",
          "name": "stdout",
          "text": [
            "Using device: cuda\n"
          ]
        },
        {
          "output_type": "stream",
          "name": "stderr",
          "text": [
            "100%|██████████| 562M/562M [00:13<00:00, 41.6MB/s]\n"
          ]
        }
      ]
    },
    {
      "cell_type": "code",
      "source": [
        "class CNNWithLinear(nn.Module):\n",
        "    def __init__(self, num_classes):\n",
        "        super(CNNWithLinear, self).__init__()\n",
        "        # Two convolutional layers\n",
        "        self.conv1 = nn.Conv2d(1, 32, kernel_size=3, padding=1)  # input: [batch,1,28,28] -> [batch,32,28,28]\n",
        "        self.conv2 = nn.Conv2d(32, 64, kernel_size=3, padding=1) # -> [batch,64,28,28]\n",
        "        self.pool  = nn.MaxPool2d(2, 2)                          # reduces H and W by factor 2\n",
        "\n",
        "        # After two poolings, image size becomes 28/2/2 = 7, so feature map shape: [batch, 64, 7, 7]\n",
        "        self.fc1 = nn.Linear(64 * 7 * 7, 128)  # flatten then fully-connected\n",
        "        self.fc2 = nn.Linear(128, num_classes)\n",
        "        self.dropout = nn.Dropout(0.25)\n",
        "\n",
        "    def forward(self, x):\n",
        "        x = self.pool(F.relu(self.conv1(x)))  # [batch, 32, 14, 14]\n",
        "        x = self.pool(F.relu(self.conv2(x)))  # [batch, 64, 7, 7]\n",
        "        x = x.view(x.size(0), -1)             # flatten to [batch, 64*7*7]\n",
        "        x = F.relu(self.fc1(x))\n",
        "        x = self.dropout(x)\n",
        "        x = self.fc2(x)\n",
        "        return x"
      ],
      "metadata": {
        "id": "sTppGiLoFwf2"
      },
      "execution_count": 22,
      "outputs": []
    },
    {
      "cell_type": "code",
      "source": [
        "class CNNWithNdLinear(nn.Module):\n",
        "    def __init__(self, num_classes):\n",
        "        super(CNNWithNdLinear, self).__init__()\n",
        "        # Same convolutional base\n",
        "        self.conv1 = nn.Conv2d(1, 32, kernel_size=3, padding=1)\n",
        "        self.conv2 = nn.Conv2d(32, 64, kernel_size=3, padding=1)\n",
        "        self.pool  = nn.MaxPool2d(2, 2)\n",
        "        # Instead of flattening the conv output, apply NdLinear directly.\n",
        "        # The conv output shape is [batch, 64, 7, 7]. We map it to a new multi-d tensor,\n",
        "        # here chosen as shape (8, 4, 4) because 8 * 4 * 4 = 128. (This is analogous to mapping 3136 -> 128.)\n",
        "        self.ndlinear = NdLinear(input_dims=(64, 7, 7), hidden_size=(8, 4, 4))\n",
        "        # Final classifier: after NdLinear, the feature is flattened to 128 (8*4*4) and mapped to num_classes.\n",
        "        self.fc = nn.Linear(8 * 4 * 4, num_classes)\n",
        "        self.dropout = nn.Dropout(0.25)\n",
        "\n",
        "    def forward(self, x):\n",
        "        x = self.pool(F.relu(self.conv1(x)))  # [batch, 32, 14, 14]\n",
        "        x = self.pool(F.relu(self.conv2(x)))  # [batch, 64, 7, 7]\n",
        "        x = self.ndlinear(x)                  # transforms [batch, 64, 7, 7] -> [batch, 8, 4, 4]\n",
        "        x = x.view(x.size(0), -1)             # flatten to [batch, 8*4*4 = 128]\n",
        "        x = F.relu(x)\n",
        "        x = self.dropout(x)\n",
        "        x = self.fc(x)\n",
        "        return x"
      ],
      "metadata": {
        "id": "5xihXJdKFxYC"
      },
      "execution_count": 23,
      "outputs": []
    },
    {
      "cell_type": "code",
      "source": [
        "def train_model(model, train_loader, criterion, optimizer, device, epochs):\n",
        "    model.train()\n",
        "    total_time = 0.0\n",
        "    for epoch in range(epochs):\n",
        "        start_time = time.time()\n",
        "        running_loss = 0.0\n",
        "        for data, target in train_loader:\n",
        "            data, target = data.to(device), target.to(device)\n",
        "            optimizer.zero_grad()\n",
        "            outputs = model(data)\n",
        "            loss = criterion(outputs, target)\n",
        "            loss.backward()\n",
        "            optimizer.step()\n",
        "            running_loss += loss.item() * data.size(0)\n",
        "        epoch_time = time.time() - start_time\n",
        "        total_time += epoch_time\n",
        "        epoch_loss = running_loss / len(train_loader.dataset)\n",
        "        print(f\"Epoch {epoch+1} - Loss: {epoch_loss:.4f}, Time: {epoch_time:.2f} s\")\n",
        "    return total_time"
      ],
      "metadata": {
        "id": "4Ptt8IZ2F36z"
      },
      "execution_count": 24,
      "outputs": []
    },
    {
      "cell_type": "code",
      "source": [
        "def evaluate_model(model, test_loader, criterion, device):\n",
        "    model.eval()\n",
        "    total_loss = 0.0\n",
        "    correct = 0\n",
        "    with torch.no_grad():\n",
        "        for data, target in test_loader:\n",
        "            data, target = data.to(device), target.to(device)\n",
        "            outputs = model(data)\n",
        "            loss = criterion(outputs, target)\n",
        "            total_loss += loss.item() * data.size(0)\n",
        "            preds = outputs.argmax(dim=1, keepdim=True)\n",
        "            correct += preds.eq(target.view_as(preds)).sum().item()\n",
        "    avg_loss = total_loss / len(test_loader.dataset)\n",
        "    accuracy = correct / len(test_loader.dataset)\n",
        "    return avg_loss, accuracy"
      ],
      "metadata": {
        "id": "-jBPbYrzGh14"
      },
      "execution_count": 25,
      "outputs": []
    },
    {
      "cell_type": "code",
      "source": [
        "epochs = 10\n",
        "lr = 0.001\n",
        "criterion = nn.CrossEntropyLoss()"
      ],
      "metadata": {
        "id": "IAzfKmULF8JX"
      },
      "execution_count": 26,
      "outputs": []
    },
    {
      "cell_type": "code",
      "source": [
        "print(\"Training CNN with nn.Linear ...\")\n",
        "model_linear = CNNWithLinear(num_classes).to(device)\n",
        "optimizer_linear = optim.Adam(model_linear.parameters(), lr=lr)\n",
        "time_linear = train_model(model_linear, train_loader, criterion, optimizer_linear, device, epochs=epochs)\n",
        "test_loss_linear, accuracy_linear = evaluate_model(model_linear, test_loader, criterion, device)\n",
        "print(\"\\nCNN with nn.Linear\")\n",
        "print(f\"Total Training Time: {time_linear:.2f} s\")\n",
        "print(f\"Test Loss: {test_loss_linear:.4f}\")\n",
        "print(f\"Test Accuracy: {accuracy_linear*100:.2f}%\")"
      ],
      "metadata": {
        "colab": {
          "base_uri": "https://localhost:8080/"
        },
        "id": "g2F0EXulGL-5",
        "outputId": "a4f41c8c-5653-4b95-9167-ac6c9fe2059a"
      },
      "execution_count": 27,
      "outputs": [
        {
          "output_type": "stream",
          "name": "stdout",
          "text": [
            "Training CNN with nn.Linear ...\n",
            "Epoch 1 - Loss: 0.0714, Time: 77.43 s\n",
            "Epoch 2 - Loss: 0.0303, Time: 65.33 s\n",
            "Epoch 3 - Loss: 0.0228, Time: 67.27 s\n",
            "Epoch 4 - Loss: 0.0180, Time: 65.92 s\n",
            "Epoch 5 - Loss: 0.0157, Time: 62.97 s\n",
            "Epoch 6 - Loss: 0.0123, Time: 63.36 s\n",
            "Epoch 7 - Loss: 0.0119, Time: 64.36 s\n",
            "Epoch 8 - Loss: 0.0100, Time: 65.52 s\n",
            "Epoch 9 - Loss: 0.0090, Time: 66.66 s\n",
            "Epoch 10 - Loss: 0.0080, Time: 62.20 s\n",
            "\n",
            "CNN with nn.Linear\n",
            "Total Training Time: 661.01 s\n",
            "Test Loss: 0.0207\n",
            "Test Accuracy: 99.58%\n"
          ]
        }
      ]
    },
    {
      "cell_type": "code",
      "source": [
        "print(\"\\nTraining CNN with NdLinear ...\")\n",
        "model_ndlinear = CNNWithNdLinear(num_classes).to(device)\n",
        "optimizer_ndlinear = optim.Adam(model_ndlinear.parameters(), lr=lr)\n",
        "\n",
        "time_ndlinear = train_model(model_ndlinear, train_loader, criterion, optimizer_ndlinear, device, epochs=epochs)\n",
        "test_loss_ndlinear, accuracy_ndlinear = evaluate_model(model_ndlinear, test_loader, criterion, device)\n",
        "print(\"\\nCNN with NdLinear\")\n",
        "print(f\"Total Training Time: {time_ndlinear:.2f} s\")\n",
        "print(f\"Test Loss: {test_loss_ndlinear:.4f}\")\n",
        "print(f\"Test Accuracy: {accuracy_ndlinear*100:.2f}%\")"
      ],
      "metadata": {
        "colab": {
          "base_uri": "https://localhost:8080/"
        },
        "id": "3_ij0hCKGQ5O",
        "outputId": "91958880-4878-4e41-ae8e-a3b88f5b58fb"
      },
      "execution_count": 28,
      "outputs": [
        {
          "output_type": "stream",
          "name": "stdout",
          "text": [
            "\n",
            "Training CNN with NdLinear ...\n",
            "Epoch 1 - Loss: 0.1754, Time: 64.85 s\n",
            "Epoch 2 - Loss: 0.0724, Time: 65.66 s\n",
            "Epoch 3 - Loss: 0.0577, Time: 65.42 s\n",
            "Epoch 4 - Loss: 0.0501, Time: 66.10 s\n",
            "Epoch 5 - Loss: 0.0460, Time: 65.76 s\n",
            "Epoch 6 - Loss: 0.0424, Time: 66.11 s\n",
            "Epoch 7 - Loss: 0.0396, Time: 66.80 s\n",
            "Epoch 8 - Loss: 0.0371, Time: 64.44 s\n",
            "Epoch 9 - Loss: 0.0353, Time: 65.44 s\n",
            "Epoch 10 - Loss: 0.0336, Time: 67.97 s\n",
            "\n",
            "CNN with NdLinear\n",
            "Total Training Time: 658.55 s\n",
            "Test Loss: 0.0219\n",
            "Test Accuracy: 99.36%\n"
          ]
        }
      ]
    },
    {
      "cell_type": "code",
      "source": [
        "# Data for comparison\n",
        "models = ['nn.Linear', 'NdLinear']\n",
        "training_times = [time_linear, time_ndlinear]\n",
        "accuracies = [accuracy_linear * 100, accuracy_ndlinear * 100]  # convert to percentage\n",
        "\n",
        "# Plot 1: Training Time Comparison\n",
        "plt.figure()\n",
        "plt.bar(models, training_times, color=['blue', 'orange'])\n",
        "plt.title('Training Time Comparison')\n",
        "plt.ylabel('Total Training Time (seconds)')\n",
        "plt.xlabel('Model')\n",
        "plt.ylim(0, max(training_times)*1.2)\n",
        "for i, v in enumerate(training_times):\n",
        "    plt.text(i, v + max(training_times)*0.02, f\"{v:.2f}\", ha='center', fontweight='bold')\n",
        "plt.show()"
      ],
      "metadata": {
        "colab": {
          "base_uri": "https://localhost:8080/",
          "height": 472
        },
        "id": "rxKBvBzKEL6r",
        "outputId": "023c539e-7b44-4f43-b8ea-480766a1aa27"
      },
      "execution_count": 29,
      "outputs": [
        {
          "output_type": "display_data",
          "data": {
            "text/plain": [
              "<Figure size 640x480 with 1 Axes>"
            ],
            "image/png": "[encoded data removed]"
          },
          "metadata": {}
        }
      ]
    },
    {
      "cell_type": "code",
      "source": [
        "# Plot 2: Test Accuracy Comparison\n",
        "plt.figure()\n",
        "plt.bar(models, accuracies, color=['blue', 'orange'])\n",
        "plt.title('Test Accuracy Comparison')\n",
        "plt.ylabel('Test Accuracy (%)')\n",
        "plt.xlabel('Model')\n",
        "plt.ylim(0, 100)\n",
        "for i, v in enumerate(accuracies):\n",
        "    plt.text(i, v + 1, f\"{v:.2f}%\", ha='center', fontweight='bold')\n",
        "plt.show()"
      ],
      "metadata": {
        "colab": {
          "base_uri": "https://localhost:8080/",
          "height": 472
        },
        "id": "1kZ3LrB0LBqT",
        "outputId": "0bb4e864-97de-4e89-ee3d-8651b6b5cadf"
      },
      "execution_count": 30,
      "outputs": [
        {
          "output_type": "display_data",
          "data": {
            "text/plain": [
              "<Figure size 640x480 with 1 Axes>"
            ],
            "image/png": "[encoded data removed]"
          },
          "metadata": {}
        }
      ]
    },
    {
      "cell_type": "code",
      "source": [
        "print(\"\\nComparison:\")\n",
        "print(f\"Time Difference: NdLinear model training time is {time_ndlinear - time_linear:.2f} s \" +\n",
        "      (\"slower\" if time_ndlinear > time_linear else \"faster\") + \" than the Linear model.\")\n",
        "print(f\"Accuracy Difference: NdLinear model accuracy is {accuracy_ndlinear*100 - accuracy_linear*100:.2f}% \" +\n",
        "      (\"higher\" if accuracy_ndlinear > accuracy_linear else \"lower\") + \" than the Linear model.\")"
      ],
      "metadata": {
        "colab": {
          "base_uri": "https://localhost:8080/"
        },
        "id": "Dsac2Cn5GWGm",
        "outputId": "baa28c6c-71a3-4bf4-a15c-25b53c5f90c5"
      },
      "execution_count": 31,
      "outputs": [
        {
          "output_type": "stream",
          "name": "stdout",
          "text": [
            "\n",
            "Comparison:\n",
            "Time Difference: NdLinear model training time is -2.46 s faster than the Linear model.\n",
            "Accuracy Difference: NdLinear model accuracy is -0.22% lower than the Linear model.\n"
          ]
        }
      ]
    },
    {
      "cell_type": "code",
      "source": [
        "dataset = load_dataset(\"ag_news\")\n",
        "train_subset = dataset[\"train\"].shuffle(seed=42).select(range(1000))\n",
        "test_subset  = dataset[\"test\"].shuffle(seed=42).select(range(200))\n",
        "tokenizer = AutoTokenizer.from_pretrained(\"distilbert-base-uncased\")\n",
        "max_length = 32"
      ],
      "metadata": {
        "colab": {
          "base_uri": "https://localhost:8080/",
          "height": 145,
          "referenced_widgets": [
            "fefcdcbd8c8143239890ac7a2430105b",
            "3531775d392448d08b4fa3be5f42cf61",
            "59fe13c65e074c19b5ed36d54d63da1c",
            "fd9d6238ed8d41838e12dd0f8a25f236",
            "0df8010775d040e0a59d90dd045f68ad",
            "1489f57234424e6d8404740b2fde5880",
            "9923883b033d45f28ad97b292e08e838",
            "87ebb35b0b09454580cbb0c4bf6764bf",
            "0faa92a37bab4b699a0513ac3601fa44",
            "86e134634e7a4507afedb0b3e2617986",
            "bf926699569b4c8f8afd80a184d16f0c",
            "39921a0258da4f5c9a720ef44202dfed",
            "68e285d91faf4f17bfbb92623f9acbcf",
            "b664fe61a0ac4f9ab9f8b01592263fea",
            "dcb2775f7e6448ccb8ea3a17ea6d7453",
            "b27e6365b9f54705b9b466eb5eb7665e",
            "eb35087ddf82488692e903d7b27eb2b5",
            "a089f755599b4b04ad8f88413583b01e",
            "02d1ae933bf140a4940177bec44ef3d3",
            "15849b4123b145f89992afdcd0405ae9",
            "3b4f70f72980435f9609109090cda819",
            "c6f3132a77084e7fb21971a2892283f5",
            "08634c13bb2d455688aa2b681bf11b6a",
            "60b611a241344eab877f67ce83388e02",
            "d56d9fa013394853946a885850bf3227",
            "952af30ee945415cb3bb19cc2ccaf802",
            "a672a1f3bb474e10b2b1d6044bc13c1f",
            "6d647346e2f84f3189d89f97fc0c4a4d",
            "242cac29a8534bf6b243d67738dd71f8",
            "77a14deda9a54f5593242e86af07c059",
            "03649343a1b440fbac2b0153bff1edef",
            "2aa985145b004e29993e0e7b8f580944",
            "50bea4276dee4618a73e215638f6a32c",
            "e7c13ca31500440fb7b01a79d16fef78",
            "82f0a7fda0634b0b9f8936d1be872f77",
            "c5ccfae79e264e3493e49850bf57212a",
            "8f3a71f10355402caaa2f7403a064d18",
            "e3e813ad4a094256be22c36e17ae9083",
            "57aff784bd0c413aa306f37d1c1aad73",
            "9401e934b23845d6a11b13631fd1a68d",
            "e2fe698a9d024e768f8dabf3e8264ab1",
            "75895e7b650b4141828956acd45b12d4",
            "717f9c4530024619a0fe9651eed7dbfd",
            "986873d8bb0a4d4da719b55f5cb38694"
          ]
        },
        "id": "oDYU_6R5J_Sf",
        "outputId": "0d902bb6-e154-49cd-f84b-8b5eb153d273"
      },
      "execution_count": 32,
      "outputs": [
        {
          "output_type": "display_data",
          "data": {
            "text/plain": [
              "tokenizer_config.json:   0%|          | 0.00/48.0 [00:00<?, ?B/s]"
            ],
            "application/vnd.jupyter.widget-view+json": {
              "version_major": 2,
              "version_minor": 0,
              "model_id": "fefcdcbd8c8143239890ac7a2430105b"
            }
          },
          "metadata": {}
        },
        {
          "output_type": "display_data",
          "data": {
            "text/plain": [
              "config.json:   0%|          | 0.00/483 [00:00<?, ?B/s]"
            ],
            "application/vnd.jupyter.widget-view+json": {
              "version_major": 2,
              "version_minor": 0,
              "model_id": "39921a0258da4f5c9a720ef44202dfed"
            }
          },
          "metadata": {}
        },
        {
          "output_type": "display_data",
          "data": {
            "text/plain": [
              "vocab.txt:   0%|          | 0.00/232k [00:00<?, ?B/s]"
            ],
            "application/vnd.jupyter.widget-view+json": {
              "version_major": 2,
              "version_minor": 0,
              "model_id": "08634c13bb2d455688aa2b681bf11b6a"
            }
          },
          "metadata": {}
        },
        {
          "output_type": "display_data",
          "data": {
            "text/plain": [
              "tokenizer.json:   0%|          | 0.00/466k [00:00<?, ?B/s]"
            ],
            "application/vnd.jupyter.widget-view+json": {
              "version_major": 2,
              "version_minor": 0,
              "model_id": "e7c13ca31500440fb7b01a79d16fef78"
            }
          },
          "metadata": {}
        }
      ]
    },
    {
      "cell_type": "code",
      "source": [
        "def tokenize_function(example):\n",
        "    return tokenizer(example[\"text\"], truncation=True, padding=\"max_length\", max_length=max_length)\n",
        "\n",
        "\n",
        "train_tokenized = train_subset.map(tokenize_function, batched=True)\n",
        "test_tokenized  = test_subset.map(tokenize_function, batched=True)"
      ],
      "metadata": {
        "colab": {
          "base_uri": "https://localhost:8080/",
          "height": 81,
          "referenced_widgets": [
            "6992d2f4c2634146938640651ed68fff",
            "a736ec261d2542d5845cdd207a21c7b6",
            "97f5e3b3c157486b828e015efb825ab0",
            "fc3bb6c54c464fa09ef83012c5b0a1fa",
            "53d04ffaaf734eb0943e0c717cc451f6",
            "fa935306cbee45588de34487393ad2e8",
            "dc17cbe1774049cb8ee21fd8c5c070d0",
            "40a0745c55db41b7b1c6c687384a13db",
            "4aabd7d8998e4e70bf9bcffdbe84cc25",
            "0e1f501313b549448bd0afd6b7d3c527",
            "26fdac32ba4b499aa06a5cadb855f88a",
            "6c82693e854746a5ac82dce35157c0c0",
            "4cf8f7373f5149d180c409339e904259",
            "1e4a9b9b2c0a45f79b0569699f6db8e1",
            "0e89e225469a44b387561646717932eb",
            "335633ce7d194e4e9749b11fda9bd5be",
            "2f28ced4c9dc450483f1923f11357854",
            "2d026f809e664a8aa4bbc713148a6392",
            "baecb25964c9470191ebf81a29797b63",
            "8a3089a9bc254affa26b6a97650f9009",
            "46cf169383194d90b41c55c58db256bc",
            "3dcd0ce4722a41c1b3f150db68b78d0f"
          ]
        },
        "id": "zmyuoXl8KBuh",
        "outputId": "45574ebe-8752-4fd4-c82c-e03845e6e0fc"
      },
      "execution_count": 33,
      "outputs": [
        {
          "output_type": "display_data",
          "data": {
            "text/plain": [
              "Map:   0%|          | 0/1000 [00:00<?, ? examples/s]"
            ],
            "application/vnd.jupyter.widget-view+json": {
              "version_major": 2,
              "version_minor": 0,
              "model_id": "6992d2f4c2634146938640651ed68fff"
            }
          },
          "metadata": {}
        },
        {
          "output_type": "display_data",
          "data": {
            "text/plain": [
              "Map:   0%|          | 0/200 [00:00<?, ? examples/s]"
            ],
            "application/vnd.jupyter.widget-view+json": {
              "version_major": 2,
              "version_minor": 0,
              "model_id": "6c82693e854746a5ac82dce35157c0c0"
            }
          },
          "metadata": {}
        }
      ]
    },
    {
      "cell_type": "code",
      "source": [
        "# Define a PyTorch dataset wrapper\n",
        "class TextDataset(Dataset):\n",
        "    def __init__(self, tokenized_dataset):\n",
        "        self.input_ids = tokenized_dataset[\"input_ids\"]\n",
        "        self.attention_mask = tokenized_dataset[\"attention_mask\"]\n",
        "        self.labels = tokenized_dataset[\"label\"]\n",
        "    def __len__(self):\n",
        "        return len(self.labels)\n",
        "    def __getitem__(self, idx):\n",
        "        return {\n",
        "            \"input_ids\": torch.tensor(self.input_ids[idx], dtype=torch.long),\n",
        "            \"attention_mask\": torch.tensor(self.attention_mask[idx], dtype=torch.long),\n",
        "            \"labels\": torch.tensor(self.labels[idx], dtype=torch.long)\n",
        "        }"
      ],
      "metadata": {
        "id": "l71HIXROKNxD"
      },
      "execution_count": 34,
      "outputs": []
    },
    {
      "cell_type": "code",
      "source": [
        "train_data = TextDataset(train_tokenized)\n",
        "test_data  = TextDataset(test_tokenized)\n",
        "train_loader = DataLoader(train_data, batch_size=32, shuffle=True)\n",
        "test_loader  = DataLoader(test_data, batch_size=32)\n",
        "vocab_size = tokenizer.vocab_size\n",
        "num_classes = 4  # AG News has 4 classes"
      ],
      "metadata": {
        "id": "jzo0vt2dKRwB"
      },
      "execution_count": 35,
      "outputs": []
    },
    {
      "cell_type": "code",
      "source": [
        "# Positional Encoding Module\n",
        "class PositionalEncoding(nn.Module):\n",
        "    def __init__(self, d_model, max_len=5000):\n",
        "        super().__init__()\n",
        "        pe = torch.zeros(max_len, d_model)  # (max_len, d_model)\n",
        "        position = torch.arange(0, max_len, dtype=torch.float).unsqueeze(1)\n",
        "        div_term = torch.exp(torch.arange(0, d_model, 2).float() * -(math.log(10000.0) / d_model))\n",
        "        pe[:, 0::2] = torch.sin(position * div_term)\n",
        "        pe[:, 1::2] = torch.cos(position * div_term)\n",
        "        pe = pe.unsqueeze(0)  # (1, max_len, d_model)\n",
        "        self.register_buffer('pe', pe)\n",
        "\n",
        "    def forward(self, x):\n",
        "        # x shape: (batch, seq_len, d_model)\n",
        "        x = x + self.pe[:, :x.size(1), :]\n",
        "        return x"
      ],
      "metadata": {
        "id": "6DSGgvPHKVbc"
      },
      "execution_count": 36,
      "outputs": []
    },
    {
      "cell_type": "code",
      "source": [
        "# Custom Transformer Encoder Layer that optionally uses NdLinear in feed-forward layers\n",
        "class CustomTransformerEncoderLayer(nn.Module):\n",
        "    def __init__(self, d_model, nhead, dim_feedforward, dropout=0.1, use_ndlinear=False):\n",
        "        super().__init__()\n",
        "        self.self_attn = nn.MultiheadAttention(d_model, nhead, dropout=dropout)\n",
        "        if use_ndlinear:\n",
        "            # When input dims are one-dimensional, NdLinear acts as nn.Linear.\n",
        "            self.linear1 = NdLinear(input_dims=(d_model,), hidden_size=(dim_feedforward,))\n",
        "            self.linear2 = NdLinear(input_dims=(dim_feedforward,), hidden_size=(d_model,))\n",
        "        else:\n",
        "            self.linear1 = nn.Linear(d_model, dim_feedforward)\n",
        "            self.linear2 = nn.Linear(dim_feedforward, d_model)\n",
        "        self.norm1 = nn.LayerNorm(d_model)\n",
        "        self.norm2 = nn.LayerNorm(d_model)\n",
        "        self.dropout1 = nn.Dropout(dropout)\n",
        "        self.dropout2 = nn.Dropout(dropout)\n",
        "        self.activation = nn.GELU()\n",
        "\n",
        "    def forward(self, src, src_mask=None, src_key_padding_mask=None):\n",
        "        # src shape: (seq_len, batch, d_model)\n",
        "        attn_output, _ = self.self_attn(src, src, src, attn_mask=src_mask, key_padding_mask=src_key_padding_mask)\n",
        "        src = src + self.dropout1(attn_output)\n",
        "        src = self.norm1(src)\n",
        "        ff_output = self.linear2(self.activation(self.linear1(src)))\n",
        "        src = src + self.dropout2(ff_output)\n",
        "        src = self.norm2(src)\n",
        "        return src"
      ],
      "metadata": {
        "id": "uw_snFSAKYJY"
      },
      "execution_count": 37,
      "outputs": []
    },
    {
      "cell_type": "code",
      "source": [
        "# Transformer Classifier that stacks multiple encoder layers\n",
        "class TransformerClassifier(nn.Module):\n",
        "    def __init__(self, vocab_size, d_model=128, nhead=4, num_layers=2,\n",
        "                 dim_feedforward=256, dropout=0.1, max_length=32, num_classes=4, use_ndlinear=False):\n",
        "        super().__init__()\n",
        "        self.embedding = nn.Embedding(vocab_size, d_model)\n",
        "        self.pos_encoder = PositionalEncoding(d_model, max_len=max_length)\n",
        "        # Create encoder layers\n",
        "        self.layers = nn.ModuleList([\n",
        "            CustomTransformerEncoderLayer(d_model, nhead, dim_feedforward, dropout, use_ndlinear)\n",
        "            for _ in range(num_layers)\n",
        "        ])\n",
        "        self.dropout = nn.Dropout(dropout)\n",
        "        # Use simple average pooling for classification\n",
        "        self.fc = nn.Linear(d_model, num_classes)\n",
        "\n",
        "    def forward(self, input_ids, attention_mask=None):\n",
        "        # input_ids shape: (batch, seq_len)\n",
        "        embedded = self.embedding(input_ids)  # (batch, seq_len, d_model)\n",
        "        embedded = self.pos_encoder(embedded)\n",
        "        # Transformer encoder expects shape (seq_len, batch, d_model)\n",
        "        src = embedded.transpose(0, 1)\n",
        "        for layer in self.layers:\n",
        "            src = layer(src)\n",
        "        # Transpose back: (batch, seq_len, d_model)\n",
        "        encoded = src.transpose(0, 1)\n",
        "        # Pool across sequence dimension (mean pooling)\n",
        "        pooled = encoded.mean(dim=1)\n",
        "        pooled = self.dropout(pooled)\n",
        "        logits = self.fc(pooled)\n",
        "        return logits"
      ],
      "metadata": {
        "id": "C_yCUsdiKbLp"
      },
      "execution_count": 38,
      "outputs": []
    },
    {
      "cell_type": "code",
      "source": [
        "def train_model(model, loader, criterion, optimizer, device, epochs=2):\n",
        "    model.train()\n",
        "    total_time = 0.0\n",
        "    for epoch in range(epochs):\n",
        "        start_time = time.time()\n",
        "        running_loss = 0.0\n",
        "        for batch in loader:\n",
        "            input_ids = batch[\"input_ids\"].to(device)\n",
        "            labels = batch[\"labels\"].to(device)\n",
        "            optimizer.zero_grad()\n",
        "            outputs = model(input_ids)\n",
        "            loss = criterion(outputs, labels)\n",
        "            loss.backward()\n",
        "            optimizer.step()\n",
        "            running_loss += loss.item() * input_ids.size(0)\n",
        "        epoch_time = time.time() - start_time\n",
        "        total_time += epoch_time\n",
        "        avg_loss = running_loss / len(loader.dataset)\n",
        "        print(f\"Epoch {epoch+1} - Loss: {avg_loss:.4f}, Time: {epoch_time:.2f}s\")\n",
        "    return total_time"
      ],
      "metadata": {
        "id": "96quLiKoKfFJ"
      },
      "execution_count": 39,
      "outputs": []
    },
    {
      "cell_type": "code",
      "source": [
        "def evaluate_model(model, loader, criterion, device):\n",
        "    model.eval()\n",
        "    total_loss = 0.0\n",
        "    correct = 0\n",
        "    with torch.no_grad():\n",
        "        for batch in loader:\n",
        "            input_ids = batch[\"input_ids\"].to(device)\n",
        "            labels = batch[\"labels\"].to(device)\n",
        "            outputs = model(input_ids)\n",
        "            loss = criterion(outputs, labels)\n",
        "            total_loss += loss.item() * input_ids.size(0)\n",
        "            preds = outputs.argmax(dim=1)\n",
        "            correct += (preds == labels).sum().item()\n",
        "    avg_loss = total_loss / len(loader.dataset)\n",
        "    accuracy = correct / len(loader.dataset)\n",
        "    return avg_loss, accuracy"
      ],
      "metadata": {
        "id": "Yi5DN1dzKphr"
      },
      "execution_count": 40,
      "outputs": []
    },
    {
      "cell_type": "code",
      "source": [
        "print(\"Training TransformerClassifier with standard nn.Linear...\")\n",
        "model_standard = TransformerClassifier(vocab_size, num_classes=num_classes, use_ndlinear=False).to(device)\n",
        "optimizer_standard = torch.optim.Adam(model_standard.parameters(), lr=lr)\n",
        "time_standard = train_model(model_standard, train_loader, criterion, optimizer_standard, device, epochs=epochs)\n",
        "loss_standard, acc_standard = evaluate_model(model_standard, test_loader, criterion, device)\n",
        "print(\"\\nStandard Model:\")\n",
        "print(f\"Training Time: {time_standard:.2f}s, Test Loss: {loss_standard:.4f}, Test Accuracy: {acc_standard*100:.2f}%\")"
      ],
      "metadata": {
        "colab": {
          "base_uri": "https://localhost:8080/"
        },
        "id": "cy3sKIvgKsVk",
        "outputId": "63ec5d27-9b5b-45f7-9164-9e9a4db8bcac"
      },
      "execution_count": 43,
      "outputs": [
        {
          "output_type": "stream",
          "name": "stdout",
          "text": [
            "Training TransformerClassifier with standard nn.Linear...\n",
            "Epoch 1 - Loss: 1.3876, Time: 0.59s\n",
            "Epoch 2 - Loss: 1.1687, Time: 0.26s\n",
            "Epoch 3 - Loss: 0.8664, Time: 0.26s\n",
            "Epoch 4 - Loss: 0.5990, Time: 0.26s\n",
            "Epoch 5 - Loss: 0.3333, Time: 0.27s\n",
            "Epoch 6 - Loss: 0.1392, Time: 0.27s\n",
            "Epoch 7 - Loss: 0.0477, Time: 0.26s\n",
            "Epoch 8 - Loss: 0.0290, Time: 0.26s\n",
            "Epoch 9 - Loss: 0.0084, Time: 0.27s\n",
            "Epoch 10 - Loss: 0.0032, Time: 0.26s\n",
            "\n",
            "Standard Model:\n",
            "Training Time: 2.97s, Test Loss: 1.9700, Test Accuracy: 59.50%\n"
          ]
        }
      ]
    },
    {
      "cell_type": "code",
      "source": [
        "print(\"\\nTraining TransformerClassifier with NdLinear...\")\n",
        "model_ndlinear = TransformerClassifier(vocab_size, num_classes=num_classes, use_ndlinear=True).to(device)\n",
        "optimizer_ndlinear = torch.optim.Adam(model_ndlinear.parameters(), lr=lr)\n",
        "time_ndlinear = train_model(model_ndlinear, train_loader, criterion, optimizer_ndlinear, device, epochs=epochs)\n",
        "loss_ndlinear, acc_ndlinear = evaluate_model(model_ndlinear, test_loader, criterion, device)\n",
        "print(\"\\nNdLinear Model:\")\n",
        "print(f\"Training Time: {time_ndlinear:.2f}s, Test Loss: {loss_ndlinear:.4f}, Test Accuracy: {acc_ndlinear*100:.2f}%\")"
      ],
      "metadata": {
        "colab": {
          "base_uri": "https://localhost:8080/"
        },
        "id": "iNe7rA07KyC8",
        "outputId": "5e72b5c6-9a6d-4611-a033-3d3caf5c4d78"
      },
      "execution_count": 44,
      "outputs": [
        {
          "output_type": "stream",
          "name": "stdout",
          "text": [
            "\n",
            "Training TransformerClassifier with NdLinear...\n",
            "Epoch 1 - Loss: 1.3935, Time: 0.27s\n",
            "Epoch 2 - Loss: 1.1929, Time: 0.27s\n",
            "Epoch 3 - Loss: 0.8573, Time: 0.28s\n",
            "Epoch 4 - Loss: 0.5638, Time: 0.27s\n",
            "Epoch 5 - Loss: 0.2656, Time: 0.27s\n",
            "Epoch 6 - Loss: 0.1148, Time: 0.28s\n",
            "Epoch 7 - Loss: 0.1228, Time: 0.26s\n",
            "Epoch 8 - Loss: 0.0783, Time: 0.27s\n",
            "Epoch 9 - Loss: 0.0320, Time: 0.28s\n",
            "Epoch 10 - Loss: 0.0591, Time: 0.28s\n",
            "\n",
            "NdLinear Model:\n",
            "Training Time: 2.72s, Test Loss: 2.0941, Test Accuracy: 58.00%\n"
          ]
        }
      ]
    },
    {
      "cell_type": "code",
      "source": [
        "models = ['Standard', 'NdLinear']\n",
        "times = [time_standard, time_ndlinear]\n",
        "accuracies = [acc_standard * 100, acc_ndlinear * 100]  # in %\n",
        "# Training Time Comparison Plot\n",
        "plt.figure()\n",
        "plt.bar(models, times, color=['green', 'purple'])\n",
        "plt.title('Transformer Training Time Comparison')\n",
        "plt.ylabel('Training Time (s)')\n",
        "plt.xlabel('Model')\n",
        "for i, v in enumerate(times):\n",
        "    plt.text(i, v + 0.1, f\"{v:.2f}s\", ha='center', fontweight='bold')\n",
        "plt.show()"
      ],
      "metadata": {
        "colab": {
          "base_uri": "https://localhost:8080/",
          "height": 472
        },
        "id": "xMBd5ed6K0Te",
        "outputId": "219cd26b-d46d-4f77-9db0-b25ad8f5c8fa"
      },
      "execution_count": 45,
      "outputs": [
        {
          "output_type": "display_data",
          "data": {
            "text/plain": [
              "<Figure size 640x480 with 1 Axes>"
            ],
            "image/png": "[encoded data removed]"
          },
          "metadata": {}
        }
      ]
    },
    {
      "cell_type": "code",
      "source": [
        "# Test Accuracy Comparison Plot\n",
        "plt.figure()\n",
        "plt.bar(models, accuracies, color=['green', 'purple'])\n",
        "plt.title('Transformer Test Accuracy Comparison')\n",
        "plt.ylabel('Accuracy (%)')\n",
        "plt.xlabel('Model')\n",
        "plt.ylim(0, 100)\n",
        "for i, v in enumerate(accuracies):\n",
        "    plt.text(i, v + 1, f\"{v:.2f}%\", ha='center', fontweight='bold')\n",
        "plt.show()"
      ],
      "metadata": {
        "colab": {
          "base_uri": "https://localhost:8080/",
          "height": 472
        },
        "id": "h6RU7OTiK7lF",
        "outputId": "0863f023-14b2-4e7d-8661-b106e81b03f8"
      },
      "execution_count": 46,
      "outputs": [
        {
          "output_type": "display_data",
          "data": {
            "text/plain": [
              "<Figure size 640x480 with 1 Axes>"
            ],
            "image/png": "[encoded data removed]"
          },
          "metadata": {}
        }
      ]
    },
    {
      "cell_type": "code",
      "source": [
        "# Print comparison summary\n",
        "print(\"\\nComparison Summary:\")\n",
        "print(f\"Time Difference: NdLinear model training time is {abs(time_ndlinear - time_standard):.2f}s \" +\n",
        "      (\"slower\" if time_ndlinear > time_standard else \"faster\") + \" than the standard model.\")\n",
        "print(f\"Accuracy Difference: NdLinear model accuracy is {abs(acc_ndlinear - acc_standard)*100:.2f}% \" +\n",
        "      (\"higher\" if acc_ndlinear > acc_standard else \"lower\") + \" than the standard model.\")"
      ],
      "metadata": {
        "colab": {
          "base_uri": "https://localhost:8080/"
        },
        "id": "TjHSJjPSK9Ls",
        "outputId": "d7929c3e-71fe-413e-b8cd-9cc303ed7238"
      },
      "execution_count": 50,
      "outputs": [
        {
          "output_type": "stream",
          "name": "stdout",
          "text": [
            "\n",
            "Comparison Summary:\n",
            "Time Difference: NdLinear model training time is 0.24s faster than the standard model.\n",
            "Accuracy Difference: NdLinear model accuracy is 1.50% lower than the standard model.\n"
          ]
        }
      ]
    }
  ]
}